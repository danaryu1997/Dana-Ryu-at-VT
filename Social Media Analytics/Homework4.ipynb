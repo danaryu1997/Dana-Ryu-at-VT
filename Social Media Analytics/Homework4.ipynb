{
 "cells": [
  {
   "cell_type": "code",
   "execution_count": 5,
   "metadata": {},
   "outputs": [],
   "source": [
    "import nltk\n",
    "from nltk.corpus import stopwords\n",
    "import json\n",
    "import tweepy\n",
    "from collections import defaultdict\n",
    "import time\n",
    "import pandas as pd\n",
    "from nltk.tokenize import TweetTokenizer\n",
    "import random"
   ]
  },
  {
   "cell_type": "code",
   "execution_count": 2,
   "metadata": {},
   "outputs": [
    {
     "name": "stdout",
     "output_type": "stream",
     "text": [
      "Collecting gensim\n",
      "  Downloading gensim-4.1.2-cp38-cp38-win_amd64.whl (24.0 MB)\n",
      "Collecting python-Levenshtein\n",
      "  Downloading python-Levenshtein-0.12.2.tar.gz (50 kB)\n",
      "Requirement already satisfied: numpy>=1.17.0 in c:\\users\\tndud\\anaconda3\\lib\\site-packages (from gensim) (1.19.2)\n",
      "Collecting smart-open>=1.8.1\n",
      "  Downloading smart_open-5.2.1-py3-none-any.whl (58 kB)\n",
      "Requirement already satisfied: scipy>=0.18.1 in c:\\users\\tndud\\anaconda3\\lib\\site-packages (from gensim) (1.5.2)\n",
      "Collecting Cython==0.29.23\n",
      "  Downloading Cython-0.29.23-cp38-cp38-win_amd64.whl (1.7 MB)\n",
      "Requirement already satisfied: setuptools in c:\\users\\tndud\\anaconda3\\lib\\site-packages (from python-Levenshtein) (50.3.1.post20201107)\n",
      "Building wheels for collected packages: python-Levenshtein\n",
      "  Building wheel for python-Levenshtein (setup.py): started\n",
      "  Building wheel for python-Levenshtein (setup.py): finished with status 'done'\n",
      "  Created wheel for python-Levenshtein: filename=python_Levenshtein-0.12.2-cp38-cp38-win_amd64.whl size=83351 sha256=71e208ac26f3faaea3cb4b9008ee7051bf74bc497ae064fc0f3d8e96e51d4f3e\n",
      "  Stored in directory: c:\\users\\tndud\\appdata\\local\\pip\\cache\\wheels\\d7\\0c\\76\\042b46eb0df65c3ccd0338f791210c55ab79d209bcc269e2c7\n",
      "Successfully built python-Levenshtein\n",
      "Installing collected packages: smart-open, Cython, gensim, python-Levenshtein\n",
      "  Attempting uninstall: Cython\n",
      "    Found existing installation: Cython 0.29.21\n",
      "    Uninstalling Cython-0.29.21:\n",
      "      Successfully uninstalled Cython-0.29.21\n",
      "Successfully installed Cython-0.29.23 gensim-4.1.2 python-Levenshtein-0.12.2 smart-open-5.2.1\n"
     ]
    }
   ],
   "source": [
    "#uncomment and run this cell\n",
    "#! python -mpip install gensim python-Levenshtein"
   ]
  },
  {
   "cell_type": "code",
   "execution_count": 8,
   "metadata": {},
   "outputs": [],
   "source": [
    "bearer = \"AAAAAAAAAAAAAAAAAAAAAC%2FJZwEAAAAAMbrOfWhkbRcB9p0CRF3BPBx11U8%3DZuiKEqoQb2JyxBm6GhCWPZ6eipuYaMIcFlrypU6CTuyjiMy6WN\"\n"
   ]
  },
  {
   "cell_type": "code",
   "execution_count": 191,
   "metadata": {},
   "outputs": [],
   "source": [
    "client = tweepy.Client(bearer_token=bearer, wait_on_rate_limit=True)\n",
    "\n",
    "\n",
    "def get_tweets(client, input_query, n=3000):\n",
    "    page_size = 100\n",
    "    pages = n // 100 + 1\n",
    "    i = 0\n",
    "    for tweet_batch in tweepy.Paginator(client.search_recent_tweets, input_query,\n",
    "                                  tweet_fields=[\"created_at\", \"public_metrics\", \"entities\"],\n",
    "                                   expansions=[\"author_id\"],\n",
    "                                  user_fields=[\"username\", \"public_metrics\"],\n",
    "                                  max_results=page_size, limit=pages):\n",
    "        user_lookup = {u.id: u.data for u in tweet_batch.includes[\"users\"]}\n",
    "        for tweet in tweet_batch.data:\n",
    "            data = tweet.data\n",
    "            data[\"author\"] = user_lookup[tweet.author_id]\n",
    "            i += 1\n",
    "            yield tweet\n",
    "            \n",
    "            if i == n:\n",
    "                return\n",
    "            \n",
    "def get_entities(tweet, entity):\n",
    "    if tweet.entities and entity in tweet.entities:\n",
    "        return tweet.entities[entity]\n",
    "    else:\n",
    "        return []"
   ]
  },
  {
   "cell_type": "markdown",
   "metadata": {},
   "source": [
    "# Collecting Tweets\n",
    "\n",
    "Please note that we use three different topics in this case just for clarity. "
   ]
  },
  {
   "cell_type": "code",
   "execution_count": 192,
   "metadata": {},
   "outputs": [
    {
     "name": "stdout",
     "output_type": "stream",
     "text": [
      "covid\n",
      "processed 100 tweets: saved 100\n",
      "processed 200 tweets: saved 200\n",
      "processed 300 tweets: saved 300\n",
      "processed 400 tweets: saved 400\n",
      "processed 500 tweets: saved 500\n",
      "processed 600 tweets: saved 600\n",
      "processed 700 tweets: saved 700\n",
      "processed 800 tweets: saved 800\n",
      "processed 900 tweets: saved 900\n",
      "processed 1000 tweets: saved 1000\n",
      "processed 1100 tweets: saved 1100\n",
      "processed 1200 tweets: saved 1200\n",
      "processed 1300 tweets: saved 1300\n",
      "processed 1400 tweets: saved 1400\n",
      "processed 1500 tweets: saved 1500\n",
      "processed 1600 tweets: saved 1600\n",
      "processed 1700 tweets: saved 1700\n",
      "processed 1800 tweets: saved 1800\n",
      "processed 1900 tweets: saved 1900\n",
      "processed 2000 tweets: saved 2000\n",
      "processed 2100 tweets: saved 2100\n",
      "processed 2200 tweets: saved 2200\n",
      "processed 2300 tweets: saved 2300\n",
      "processed 2400 tweets: saved 2400\n",
      "processed 2500 tweets: saved 2500\n",
      "processed 2600 tweets: saved 2600\n",
      "processed 2700 tweets: saved 2700\n",
      "processed 2800 tweets: saved 2800\n",
      "processed 2900 tweets: saved 2900\n",
      "processed 3000 tweets: saved 3000\n"
     ]
    }
   ],
   "source": [
    "input_queries = [\"covid\"]\n",
    "\n",
    "dataset = []\n",
    "download_tweet_count = 3000\n",
    "seen = {}\n",
    "for input_query in input_queries:\n",
    "    #Download, skipping retweets, look for english\n",
    "    input_query_nort = \"{} -is:retweet lang:en\".format(input_query)\n",
    "    print(input_query)\n",
    "    q_dataset = []\n",
    "    for i, tweet in enumerate(get_tweets(client, input_query_nort)):\n",
    "        datum = {\n",
    "            \"topic\": input_query,\n",
    "            \"id\": tweet.id,\n",
    "\n",
    "            #user related info\n",
    "            \"username\": tweet.author[\"username\"],\n",
    "            \"name\": tweet.author[\"name\"],\n",
    "            \"user_followers_count\": tweet.author[\"public_metrics\"][\"followers_count\"],\n",
    "            \"user_friends_count\": tweet.author[\"public_metrics\"][\"following_count\"],\n",
    "            # tweet related information\n",
    "            \"text\": tweet.text,\n",
    "            \"created_at\": tweet.created_at.strftime(\"%Y-%m-%d %H:%M:%S\"),\n",
    "            \"like_count\": tweet.public_metrics[\"like_count\"],\n",
    "            \"retweet_count\": tweet.public_metrics[\"retweet_count\"],\n",
    "            # some extracted data from tweet\n",
    "            \"hashtags\": ','.join(ht['tag'] for ht in get_entities(tweet, \"hashtags\")),\n",
    "            \"mentioned_urls\": ','.join(url['expanded_url'] for url in get_entities(tweet, 'urls')),\n",
    "            \"mentioned_user_ids\": ','.join(mention['id'] for mention in get_entities(tweet, \"mentions\")),\n",
    "            \"mentioned_user_names\": ','.join(mention['username'] for mention in get_entities(tweet, \"mentions\")),\n",
    "        }\n",
    "        q_dataset += [datum]\n",
    "\n",
    "        if (i + 1) % 100 == 0:\n",
    "            print(\"processed {} tweets: saved {}\".format(i + 1, len(q_dataset)))\n",
    "                  \n",
    "        if len(q_dataset) >= download_tweet_count:\n",
    "            break\n",
    "    dataset += q_dataset"
   ]
  },
  {
   "cell_type": "code",
   "execution_count": 91,
   "metadata": {},
   "outputs": [],
   "source": [
    "#dataset2 = [t for t in dataset if \"harvard\" in t[\"text\"].lower()] + [t for t in dataset if \"stanford\" in t[\"text\"].lower()] + [t for t in dataset if \"virginia\" in t[\"text\"].lower()]\n",
    "#random.shuffle(dataset2)"
   ]
  },
  {
   "cell_type": "code",
   "execution_count": 355,
   "metadata": {},
   "outputs": [
    {
     "data": {
      "text/html": [
       "<div>\n",
       "<style scoped>\n",
       "    .dataframe tbody tr th:only-of-type {\n",
       "        vertical-align: middle;\n",
       "    }\n",
       "\n",
       "    .dataframe tbody tr th {\n",
       "        vertical-align: top;\n",
       "    }\n",
       "\n",
       "    .dataframe thead th {\n",
       "        text-align: right;\n",
       "    }\n",
       "</style>\n",
       "<table border=\"1\" class=\"dataframe\">\n",
       "  <thead>\n",
       "    <tr style=\"text-align: right;\">\n",
       "      <th></th>\n",
       "      <th>created_at</th>\n",
       "      <th>text</th>\n",
       "      <th>hashtags</th>\n",
       "      <th>username</th>\n",
       "      <th>user_followers_count</th>\n",
       "      <th>topic</th>\n",
       "    </tr>\n",
       "  </thead>\n",
       "  <tbody>\n",
       "    <tr>\n",
       "      <th>2249</th>\n",
       "      <td>2022-04-20 17:27:47</td>\n",
       "      <td>@sesmith Pull mask down and speak directly int...</td>\n",
       "      <td></td>\n",
       "      <td>mattmaison</td>\n",
       "      <td>538</td>\n",
       "      <td>covid</td>\n",
       "    </tr>\n",
       "    <tr>\n",
       "      <th>2128</th>\n",
       "      <td>2022-04-20 17:28:33</td>\n",
       "      <td>@Tomisback10 @OKSt8Fan @DLoesch The hospitaliz...</td>\n",
       "      <td></td>\n",
       "      <td>TypeACommentary</td>\n",
       "      <td>54</td>\n",
       "      <td>covid</td>\n",
       "    </tr>\n",
       "    <tr>\n",
       "      <th>174</th>\n",
       "      <td>2022-04-20 17:40:45</td>\n",
       "      <td>This afternoon, @MarisaJacquesTV is going long...</td>\n",
       "      <td>Ukraine</td>\n",
       "      <td>RobGuaderrama</td>\n",
       "      <td>3363</td>\n",
       "      <td>covid</td>\n",
       "    </tr>\n",
       "    <tr>\n",
       "      <th>1302</th>\n",
       "      <td>2022-04-20 17:33:42</td>\n",
       "      <td>🤣Some girl said she has covid, so they gave he...</td>\n",
       "      <td></td>\n",
       "      <td>Tee_NN</td>\n",
       "      <td>522</td>\n",
       "      <td>covid</td>\n",
       "    </tr>\n",
       "    <tr>\n",
       "      <th>703</th>\n",
       "      <td>2022-04-20 17:37:30</td>\n",
       "      <td>Why did  you with hold your blood lust?You sho...</td>\n",
       "      <td></td>\n",
       "      <td>ManojeNath</td>\n",
       "      <td>571</td>\n",
       "      <td>covid</td>\n",
       "    </tr>\n",
       "    <tr>\n",
       "      <th>2215</th>\n",
       "      <td>2022-04-20 17:28:00</td>\n",
       "      <td>Meet @emmabgo, a reporter @nytimes. Emma has b...</td>\n",
       "      <td>FoW</td>\n",
       "      <td>UCB_COEH</td>\n",
       "      <td>257</td>\n",
       "      <td>covid</td>\n",
       "    </tr>\n",
       "    <tr>\n",
       "      <th>750</th>\n",
       "      <td>2022-04-20 17:37:12</td>\n",
       "      <td>@toomuchbass @mattyglesias really, where's the...</td>\n",
       "      <td></td>\n",
       "      <td>DL_138</td>\n",
       "      <td>192</td>\n",
       "      <td>covid</td>\n",
       "    </tr>\n",
       "    <tr>\n",
       "      <th>1148</th>\n",
       "      <td>2022-04-20 17:34:41</td>\n",
       "      <td>Cuts was a dub in 2019 soon as Covid  hit the ...</td>\n",
       "      <td></td>\n",
       "      <td>FuckCloutHTP</td>\n",
       "      <td>368</td>\n",
       "      <td>covid</td>\n",
       "    </tr>\n",
       "    <tr>\n",
       "      <th>2110</th>\n",
       "      <td>2022-04-20 17:28:41</td>\n",
       "      <td>Everybody in NYC who doesn’t have COVID got a ...</td>\n",
       "      <td></td>\n",
       "      <td>keyleemiracle</td>\n",
       "      <td>2156</td>\n",
       "      <td>covid</td>\n",
       "    </tr>\n",
       "    <tr>\n",
       "      <th>824</th>\n",
       "      <td>2022-04-20 17:36:43</td>\n",
       "      <td>\"The average price of wraps last month was up ...</td>\n",
       "      <td></td>\n",
       "      <td>mikesisak</td>\n",
       "      <td>8751</td>\n",
       "      <td>covid</td>\n",
       "    </tr>\n",
       "  </tbody>\n",
       "</table>\n",
       "</div>"
      ],
      "text/plain": [
       "               created_at                                               text  \\\n",
       "2249  2022-04-20 17:27:47  @sesmith Pull mask down and speak directly int...   \n",
       "2128  2022-04-20 17:28:33  @Tomisback10 @OKSt8Fan @DLoesch The hospitaliz...   \n",
       "174   2022-04-20 17:40:45  This afternoon, @MarisaJacquesTV is going long...   \n",
       "1302  2022-04-20 17:33:42  🤣Some girl said she has covid, so they gave he...   \n",
       "703   2022-04-20 17:37:30  Why did  you with hold your blood lust?You sho...   \n",
       "2215  2022-04-20 17:28:00  Meet @emmabgo, a reporter @nytimes. Emma has b...   \n",
       "750   2022-04-20 17:37:12  @toomuchbass @mattyglesias really, where's the...   \n",
       "1148  2022-04-20 17:34:41  Cuts was a dub in 2019 soon as Covid  hit the ...   \n",
       "2110  2022-04-20 17:28:41  Everybody in NYC who doesn’t have COVID got a ...   \n",
       "824   2022-04-20 17:36:43  \"The average price of wraps last month was up ...   \n",
       "\n",
       "     hashtags         username  user_followers_count  topic  \n",
       "2249                mattmaison                   538  covid  \n",
       "2128           TypeACommentary                    54  covid  \n",
       "174   Ukraine    RobGuaderrama                  3363  covid  \n",
       "1302                    Tee_NN                   522  covid  \n",
       "703                 ManojeNath                   571  covid  \n",
       "2215      FoW         UCB_COEH                   257  covid  \n",
       "750                     DL_138                   192  covid  \n",
       "1148              FuckCloutHTP                   368  covid  \n",
       "2110             keyleemiracle                  2156  covid  \n",
       "824                  mikesisak                  8751  covid  "
      ]
     },
     "execution_count": 355,
     "metadata": {},
     "output_type": "execute_result"
    }
   ],
   "source": [
    "dt = pd.DataFrame.from_dict(dataset)\n",
    "dt[['created_at','text','hashtags','username','user_followers_count','topic']].sample(10)"
   ]
  },
  {
   "cell_type": "code",
   "execution_count": 264,
   "metadata": {},
   "outputs": [
    {
     "data": {
      "text/plain": [
       "'all my homies hate state/legal definitions of disability bc if covid has shown us anything it’s that theyre useless and effectively only function to keep other disabled ppl from accessing certain (still inadequate) measures'"
      ]
     },
     "execution_count": 264,
     "metadata": {},
     "output_type": "execute_result"
    }
   ],
   "source": [
    "dt[\"text\"][1]"
   ]
  },
  {
   "cell_type": "code",
   "execution_count": 94,
   "metadata": {},
   "outputs": [
    {
     "name": "stdout",
     "output_type": "stream",
     "text": [
      "economic relief (for covid, basic healthcare &amp; more) instantly became a non-issue for Democrats once Trump was out of office. but guess what, it's not a non-issue for people who still need that relief &amp; expected the more \"compassionate\" party to give it to them for their votes 🙃\n"
     ]
    }
   ],
   "source": [
    "all_docs = dt['text'].values\n",
    "print(all_docs[0])"
   ]
  },
  {
   "cell_type": "markdown",
   "metadata": {},
   "source": [
    "# Word Tokenization using TweetTokenizer\n",
    "This tokenizer is customized for tokenizing tweet data. Try using a different tokenizer to see how the result of your LDA will change."
   ]
  },
  {
   "cell_type": "code",
   "execution_count": 265,
   "metadata": {},
   "outputs": [
    {
     "name": "stdout",
     "output_type": "stream",
     "text": [
      "['rayaboody', 'blackknight10k', 'that', '’', 's', 'what', 'i', '’', 've', 'said', 'between', 'covid', 'and', 'ball', 'baking', 'we', 'could', 'solve', 'the', 'maga', 'problem']\n"
     ]
    }
   ],
   "source": [
    "import string\n",
    "exclude = set(string.punctuation)\n",
    "tokenized = []\n",
    "tokenizer = TweetTokenizer()\n",
    "for doc in all_docs:\n",
    "    tokens = tokenizer.tokenize(doc.lower())\n",
    "    tokenized.append(''.join([ch for ch in ' '.join(tokens) if ch not in exclude]).split())\n",
    "print(tokenized[1])"
   ]
  },
  {
   "cell_type": "markdown",
   "metadata": {},
   "source": [
    "# Stop word removal\n",
    "Certain parts of English speech, like conjunctions (\"in\", \"for\") are meaningless to a topic model. These terms are called stop words and need to be removed from our token list.\n",
    "Customize additional stopwords"
   ]
  },
  {
   "cell_type": "code",
   "execution_count": 353,
   "metadata": {},
   "outputs": [],
   "source": [
    "sws = set(stopwords.words('english'))\n",
    "sws.add('rt') # Tweet specific stop-words\n",
    "sws.add(\"…\") \n",
    "\n"
   ]
  },
  {
   "cell_type": "code",
   "execution_count": 169,
   "metadata": {},
   "outputs": [
    {
     "name": "stdout",
     "output_type": "stream",
     "text": [
      "Collecting wordcloud\n",
      "  Downloading wordcloud-1.8.1-cp38-cp38-win_amd64.whl (155 kB)\n",
      "Requirement already satisfied: matplotlib in c:\\users\\tndud\\anaconda3\\lib\\site-packages (from wordcloud) (3.3.2)\n",
      "Requirement already satisfied: numpy>=1.6.1 in c:\\users\\tndud\\anaconda3\\lib\\site-packages (from wordcloud) (1.19.2)\n",
      "Requirement already satisfied: pillow in c:\\users\\tndud\\anaconda3\\lib\\site-packages (from wordcloud) (8.0.1)\n",
      "Requirement already satisfied: pyparsing!=2.0.4,!=2.1.2,!=2.1.6,>=2.0.3 in c:\\users\\tndud\\anaconda3\\lib\\site-packages (from matplotlib->wordcloud) (2.4.7)\n",
      "Requirement already satisfied: certifi>=2020.06.20 in c:\\users\\tndud\\anaconda3\\lib\\site-packages (from matplotlib->wordcloud) (2020.6.20)\n",
      "Requirement already satisfied: kiwisolver>=1.0.1 in c:\\users\\tndud\\anaconda3\\lib\\site-packages (from matplotlib->wordcloud) (1.3.0)\n",
      "Requirement already satisfied: cycler>=0.10 in c:\\users\\tndud\\anaconda3\\lib\\site-packages (from matplotlib->wordcloud) (0.10.0)\n",
      "Requirement already satisfied: python-dateutil>=2.1 in c:\\users\\tndud\\anaconda3\\lib\\site-packages (from matplotlib->wordcloud) (2.8.1)\n",
      "Requirement already satisfied: six in c:\\users\\tndud\\anaconda3\\lib\\site-packages (from cycler>=0.10->matplotlib->wordcloud) (1.15.0)\n",
      "Installing collected packages: wordcloud\n",
      "Successfully installed wordcloud-1.8.1\n"
     ]
    }
   ],
   "source": [
    "#!pip install wordcloud"
   ]
  },
  {
   "cell_type": "code",
   "execution_count": 196,
   "metadata": {},
   "outputs": [
    {
     "data": {
      "image/png": "[encoded data removed]",
      "text/plain": [
       "<PIL.Image.Image image mode=RGB size=400x200 at 0x19CD5875970>"
      ]
     },
     "execution_count": 196,
     "metadata": {},
     "output_type": "execute_result"
    }
   ],
   "source": [
    "# Import the wordcloud library\n",
    "from wordcloud import WordCloud\n",
    "# Join the different processed titles together.\n",
    "long_string = ','.join(list(dt['text'].values))\n",
    "# Create a WordCloud object\n",
    "wordcloud = WordCloud(background_color=\"white\", max_words=5000, contour_width=3, contour_color='steelblue')\n",
    "# Generate a word cloud\n",
    "wordcloud.generate(long_string)\n",
    "# Visualize the word cloud\n",
    "wordcloud.to_image()"
   ]
  },
  {
   "cell_type": "code",
   "execution_count": 354,
   "metadata": {},
   "outputs": [],
   "source": [
    "swl = ['covid19','get','one', 'like', 'still', 'thats', 'see', 'long', 'people', 'would', 'know', 'think', 'also', 'many', 'say','first','two', 'dont','going','work', 'want','need','got', 'due', 'never', 'really', 'cases', 'back', 'since', 'even', 'though', 'tell', 'without', 'pandemic', 'well','week', 'via', 'number','take', 'need', 'make', 'much', 'said', 'year', 'thing' , 'getting', 'day', 'covid-19', 'bad', 'good', 'leave', 'catch', 'impact','look', 'million', 'spread', 'health' , 'news', 'wear', 'state', 'could', 'per', 'years', 'time', 'great', 'read', 'case', 'sure', 'right', 'come', 'death', 'stop','prevent', 'care', 'sick', 'die', 'post', 'risk', 'feel', 'cause', 'order', 'lose','child', 'happen', 'life', 'kill']\n",
    "for a in swl:\n",
    "    sws.add(a)"
   ]
  },
  {
   "cell_type": "markdown",
   "metadata": {},
   "source": [
    "Reference for making word clouds:https://towardsdatascience.com/end-to-end-topic-modeling-in-python-latent-dirichlet-allocation-lda-35ce4ed6b3e0"
   ]
  },
  {
   "cell_type": "code",
   "execution_count": 184,
   "metadata": {},
   "outputs": [
    {
     "name": "stdout",
     "output_type": "stream",
     "text": [
      "Collecting spacy\n",
      "  Downloading spacy-3.2.4-cp38-cp38-win_amd64.whl (11.6 MB)\n",
      "Collecting murmurhash<1.1.0,>=0.28.0\n",
      "  Downloading murmurhash-1.0.6-cp38-cp38-win_amd64.whl (21 kB)\n",
      "Collecting typer<0.5.0,>=0.3.0\n",
      "  Downloading typer-0.4.1-py3-none-any.whl (27 kB)\n",
      "Requirement already satisfied: packaging>=20.0 in c:\\users\\tndud\\anaconda3\\lib\\site-packages (from spacy) (20.4)\n",
      "Collecting spacy-loggers<2.0.0,>=1.0.0\n",
      "  Downloading spacy_loggers-1.0.2-py3-none-any.whl (7.2 kB)\n",
      "Requirement already satisfied: jinja2 in c:\\users\\tndud\\anaconda3\\lib\\site-packages (from spacy) (2.11.2)\n",
      "Requirement already satisfied: setuptools in c:\\users\\tndud\\anaconda3\\lib\\site-packages (from spacy) (50.3.1.post20201107)\n",
      "Requirement already satisfied: requests<3.0.0,>=2.13.0 in c:\\users\\tndud\\anaconda3\\lib\\site-packages (from spacy) (2.27.1)\n",
      "Requirement already satisfied: click<8.1.0 in c:\\users\\tndud\\anaconda3\\lib\\site-packages (from spacy) (7.1.2)\n",
      "Requirement already satisfied: numpy>=1.15.0 in c:\\users\\tndud\\anaconda3\\lib\\site-packages (from spacy) (1.19.2)\n",
      "Requirement already satisfied: tqdm<5.0.0,>=4.38.0 in c:\\users\\tndud\\anaconda3\\lib\\site-packages (from spacy) (4.50.2)\n",
      "Collecting pydantic!=1.8,!=1.8.1,<1.9.0,>=1.7.4\n",
      "  Downloading pydantic-1.8.2-cp38-cp38-win_amd64.whl (2.0 MB)\n",
      "Collecting preshed<3.1.0,>=3.0.2\n",
      "  Downloading preshed-3.0.6-cp38-cp38-win_amd64.whl (113 kB)\n",
      "Collecting spacy-legacy<3.1.0,>=3.0.8\n",
      "  Downloading spacy_legacy-3.0.9-py2.py3-none-any.whl (20 kB)\n",
      "Collecting catalogue<2.1.0,>=2.0.6\n",
      "  Downloading catalogue-2.0.7-py3-none-any.whl (17 kB)\n",
      "Collecting wasabi<1.1.0,>=0.8.1\n",
      "  Downloading wasabi-0.9.1-py3-none-any.whl (26 kB)\n",
      "Collecting langcodes<4.0.0,>=3.2.0\n",
      "  Downloading langcodes-3.3.0-py3-none-any.whl (181 kB)\n",
      "Collecting srsly<3.0.0,>=2.4.1\n",
      "  Downloading srsly-2.4.3-cp38-cp38-win_amd64.whl (448 kB)\n",
      "Collecting thinc<8.1.0,>=8.0.12\n",
      "  Downloading thinc-8.0.15-cp38-cp38-win_amd64.whl (1.0 MB)\n",
      "Collecting blis<0.8.0,>=0.4.0\n",
      "  Downloading blis-0.7.7-cp38-cp38-win_amd64.whl (6.6 MB)\n",
      "Collecting pathy>=0.3.5\n",
      "  Downloading pathy-0.6.1-py3-none-any.whl (42 kB)\n",
      "Collecting cymem<2.1.0,>=2.0.2\n",
      "  Downloading cymem-2.0.6-cp38-cp38-win_amd64.whl (36 kB)\n",
      "Requirement already satisfied: pyparsing>=2.0.2 in c:\\users\\tndud\\anaconda3\\lib\\site-packages (from packaging>=20.0->spacy) (2.4.7)\n",
      "Requirement already satisfied: six in c:\\users\\tndud\\anaconda3\\lib\\site-packages (from packaging>=20.0->spacy) (1.15.0)\n",
      "Requirement already satisfied: MarkupSafe>=0.23 in c:\\users\\tndud\\anaconda3\\lib\\site-packages (from jinja2->spacy) (1.1.1)\n",
      "Requirement already satisfied: charset-normalizer~=2.0.0; python_version >= \"3\" in c:\\users\\tndud\\anaconda3\\lib\\site-packages (from requests<3.0.0,>=2.13.0->spacy) (2.0.12)\n",
      "Requirement already satisfied: idna<4,>=2.5; python_version >= \"3\" in c:\\users\\tndud\\anaconda3\\lib\\site-packages (from requests<3.0.0,>=2.13.0->spacy) (2.10)\n",
      "Requirement already satisfied: urllib3<1.27,>=1.21.1 in c:\\users\\tndud\\anaconda3\\lib\\site-packages (from requests<3.0.0,>=2.13.0->spacy) (1.25.11)\n",
      "Requirement already satisfied: certifi>=2017.4.17 in c:\\users\\tndud\\anaconda3\\lib\\site-packages (from requests<3.0.0,>=2.13.0->spacy) (2020.6.20)\n",
      "Requirement already satisfied: typing-extensions>=3.7.4.3 in c:\\users\\tndud\\anaconda3\\lib\\site-packages (from pydantic!=1.8,!=1.8.1,<1.9.0,>=1.7.4->spacy) (3.7.4.3)\n",
      "Requirement already satisfied: smart-open<6.0.0,>=5.0.0 in c:\\users\\tndud\\anaconda3\\lib\\site-packages (from pathy>=0.3.5->spacy) (5.2.1)\n",
      "Installing collected packages: murmurhash, typer, wasabi, spacy-loggers, pydantic, cymem, preshed, spacy-legacy, catalogue, langcodes, srsly, blis, thinc, pathy, spacy\n",
      "Successfully installed blis-0.7.7 catalogue-2.0.7 cymem-2.0.6 langcodes-3.3.0 murmurhash-1.0.6 pathy-0.6.1 preshed-3.0.6 pydantic-1.8.2 spacy-3.2.4 spacy-legacy-3.0.9 spacy-loggers-1.0.2 srsly-2.4.3 thinc-8.0.15 typer-0.4.1 wasabi-0.9.1\n"
     ]
    }
   ],
   "source": [
    "#!pip install spacy"
   ]
  },
  {
   "cell_type": "code",
   "execution_count": 186,
   "metadata": {},
   "outputs": [
    {
     "name": "stdout",
     "output_type": "stream",
     "text": [
      "Collecting en-core-web-sm==3.2.0\n",
      "  Downloading https://github.com/explosion/spacy-models/releases/download/en_core_web_sm-3.2.0/en_core_web_sm-3.2.0-py3-none-any.whl (13.9 MB)\n",
      "Requirement already satisfied: spacy<3.3.0,>=3.2.0 in c:\\users\\tndud\\anaconda3\\lib\\site-packages (from en-core-web-sm==3.2.0) (3.2.4)\n",
      "Requirement already satisfied: setuptools in c:\\users\\tndud\\anaconda3\\lib\\site-packages (from spacy<3.3.0,>=3.2.0->en-core-web-sm==3.2.0) (50.3.1.post20201107)\n",
      "Requirement already satisfied: catalogue<2.1.0,>=2.0.6 in c:\\users\\tndud\\anaconda3\\lib\\site-packages (from spacy<3.3.0,>=3.2.0->en-core-web-sm==3.2.0) (2.0.7)\n",
      "Requirement already satisfied: preshed<3.1.0,>=3.0.2 in c:\\users\\tndud\\anaconda3\\lib\\site-packages (from spacy<3.3.0,>=3.2.0->en-core-web-sm==3.2.0) (3.0.6)\n",
      "Requirement already satisfied: spacy-legacy<3.1.0,>=3.0.8 in c:\\users\\tndud\\anaconda3\\lib\\site-packages (from spacy<3.3.0,>=3.2.0->en-core-web-sm==3.2.0) (3.0.9)\n",
      "Requirement already satisfied: typer<0.5.0,>=0.3.0 in c:\\users\\tndud\\anaconda3\\lib\\site-packages (from spacy<3.3.0,>=3.2.0->en-core-web-sm==3.2.0) (0.4.1)\n",
      "Requirement already satisfied: click<8.1.0 in c:\\users\\tndud\\anaconda3\\lib\\site-packages (from spacy<3.3.0,>=3.2.0->en-core-web-sm==3.2.0) (7.1.2)\n",
      "Requirement already satisfied: numpy>=1.15.0 in c:\\users\\tndud\\anaconda3\\lib\\site-packages (from spacy<3.3.0,>=3.2.0->en-core-web-sm==3.2.0) (1.19.2)\n",
      "Requirement already satisfied: srsly<3.0.0,>=2.4.1 in c:\\users\\tndud\\anaconda3\\lib\\site-packages (from spacy<3.3.0,>=3.2.0->en-core-web-sm==3.2.0) (2.4.3)\n",
      "Requirement already satisfied: blis<0.8.0,>=0.4.0 in c:\\users\\tndud\\anaconda3\\lib\\site-packages (from spacy<3.3.0,>=3.2.0->en-core-web-sm==3.2.0) (0.7.7)\n",
      "Requirement already satisfied: tqdm<5.0.0,>=4.38.0 in c:\\users\\tndud\\anaconda3\\lib\\site-packages (from spacy<3.3.0,>=3.2.0->en-core-web-sm==3.2.0) (4.50.2)\n",
      "Requirement already satisfied: thinc<8.1.0,>=8.0.12 in c:\\users\\tndud\\anaconda3\\lib\\site-packages (from spacy<3.3.0,>=3.2.0->en-core-web-sm==3.2.0) (8.0.15)\n",
      "Requirement already satisfied: pathy>=0.3.5 in c:\\users\\tndud\\anaconda3\\lib\\site-packages (from spacy<3.3.0,>=3.2.0->en-core-web-sm==3.2.0) (0.6.1)\n",
      "Requirement already satisfied: jinja2 in c:\\users\\tndud\\anaconda3\\lib\\site-packages (from spacy<3.3.0,>=3.2.0->en-core-web-sm==3.2.0) (2.11.2)\n",
      "Requirement already satisfied: pydantic!=1.8,!=1.8.1,<1.9.0,>=1.7.4 in c:\\users\\tndud\\anaconda3\\lib\\site-packages (from spacy<3.3.0,>=3.2.0->en-core-web-sm==3.2.0) (1.8.2)\n",
      "Requirement already satisfied: wasabi<1.1.0,>=0.8.1 in c:\\users\\tndud\\anaconda3\\lib\\site-packages (from spacy<3.3.0,>=3.2.0->en-core-web-sm==3.2.0) (0.9.1)\n",
      "Requirement already satisfied: murmurhash<1.1.0,>=0.28.0 in c:\\users\\tndud\\anaconda3\\lib\\site-packages (from spacy<3.3.0,>=3.2.0->en-core-web-sm==3.2.0) (1.0.6)\n",
      "Requirement already satisfied: cymem<2.1.0,>=2.0.2 in c:\\users\\tndud\\anaconda3\\lib\\site-packages (from spacy<3.3.0,>=3.2.0->en-core-web-sm==3.2.0) (2.0.6)\n",
      "Requirement already satisfied: spacy-loggers<2.0.0,>=1.0.0 in c:\\users\\tndud\\anaconda3\\lib\\site-packages (from spacy<3.3.0,>=3.2.0->en-core-web-sm==3.2.0) (1.0.2)\n",
      "Requirement already satisfied: langcodes<4.0.0,>=3.2.0 in c:\\users\\tndud\\anaconda3\\lib\\site-packages (from spacy<3.3.0,>=3.2.0->en-core-web-sm==3.2.0) (3.3.0)\n",
      "Requirement already satisfied: requests<3.0.0,>=2.13.0 in c:\\users\\tndud\\anaconda3\\lib\\site-packages (from spacy<3.3.0,>=3.2.0->en-core-web-sm==3.2.0) (2.27.1)\n",
      "Requirement already satisfied: packaging>=20.0 in c:\\users\\tndud\\anaconda3\\lib\\site-packages (from spacy<3.3.0,>=3.2.0->en-core-web-sm==3.2.0) (20.4)\n",
      "Requirement already satisfied: smart-open<6.0.0,>=5.0.0 in c:\\users\\tndud\\anaconda3\\lib\\site-packages (from pathy>=0.3.5->spacy<3.3.0,>=3.2.0->en-core-web-sm==3.2.0) (5.2.1)\n",
      "Requirement already satisfied: MarkupSafe>=0.23 in c:\\users\\tndud\\anaconda3\\lib\\site-packages (from jinja2->spacy<3.3.0,>=3.2.0->en-core-web-sm==3.2.0) (1.1.1)\n",
      "Requirement already satisfied: typing-extensions>=3.7.4.3 in c:\\users\\tndud\\anaconda3\\lib\\site-packages (from pydantic!=1.8,!=1.8.1,<1.9.0,>=1.7.4->spacy<3.3.0,>=3.2.0->en-core-web-sm==3.2.0) (3.7.4.3)\n",
      "Requirement already satisfied: charset-normalizer~=2.0.0; python_version >= \"3\" in c:\\users\\tndud\\anaconda3\\lib\\site-packages (from requests<3.0.0,>=2.13.0->spacy<3.3.0,>=3.2.0->en-core-web-sm==3.2.0) (2.0.12)\n",
      "Requirement already satisfied: urllib3<1.27,>=1.21.1 in c:\\users\\tndud\\anaconda3\\lib\\site-packages (from requests<3.0.0,>=2.13.0->spacy<3.3.0,>=3.2.0->en-core-web-sm==3.2.0) (1.25.11)\n",
      "Requirement already satisfied: certifi>=2017.4.17 in c:\\users\\tndud\\anaconda3\\lib\\site-packages (from requests<3.0.0,>=2.13.0->spacy<3.3.0,>=3.2.0->en-core-web-sm==3.2.0) (2020.6.20)\n",
      "Requirement already satisfied: idna<4,>=2.5; python_version >= \"3\" in c:\\users\\tndud\\anaconda3\\lib\\site-packages (from requests<3.0.0,>=2.13.0->spacy<3.3.0,>=3.2.0->en-core-web-sm==3.2.0) (2.10)\n",
      "Requirement already satisfied: six in c:\\users\\tndud\\anaconda3\\lib\\site-packages (from packaging>=20.0->spacy<3.3.0,>=3.2.0->en-core-web-sm==3.2.0) (1.15.0)\n",
      "Requirement already satisfied: pyparsing>=2.0.2 in c:\\users\\tndud\\anaconda3\\lib\\site-packages (from packaging>=20.0->spacy<3.3.0,>=3.2.0->en-core-web-sm==3.2.0) (2.4.7)\n",
      "Installing collected packages: en-core-web-sm\n",
      "Successfully installed en-core-web-sm-3.2.0\n",
      "[!] As of spaCy v3.0, shortcuts like 'en' are deprecated. Please use the full\n",
      "pipeline package name 'en_core_web_sm' instead.\n",
      "[+] Download and installation successful\n",
      "You can now load the package via spacy.load('en_core_web_sm')\n"
     ]
    }
   ],
   "source": [
    "#!python -m spacy download en"
   ]
  },
  {
   "cell_type": "markdown",
   "metadata": {},
   "source": [
    "## lemmatization"
   ]
  },
  {
   "cell_type": "markdown",
   "metadata": {},
   "source": [
    "Reference: https://spacy.io/usage"
   ]
  },
  {
   "cell_type": "code",
   "execution_count": 356,
   "metadata": {},
   "outputs": [],
   "source": [
    "from nltk import word_tokenize\n",
    "from nltk.stem import WordNetLemmatizer\n",
    "import nltk\n",
    "import spacy\n",
    "from spacy.lang.en.stop_words import STOP_WORDS\n",
    "nlp = spacy.load('en_core_web_sm')\n",
    "\n",
    "def lematized_doc(text): \n",
    "    rev_text = nlp(text)\n",
    "    rev_text = ([token.lemma_.lower() for token in rev_text if not token.is_stop and token.text not in sws and not token.is_punct and len(token.text) > 3])\n",
    "    return rev_text"
   ]
  },
  {
   "cell_type": "code",
   "execution_count": 261,
   "metadata": {},
   "outputs": [
    {
     "data": {
      "text/plain": [
       "0       [@angryhacademic, @dbkell, covid, clinic, say,...\n",
       "1       [homie, hate, legal, definition, disability, c...\n",
       "2       [decide, celebrate, covid, smash, cadbury, ora...\n",
       "3       [reaction, mask, mandate, airline, lift, skept...\n",
       "4                   [@bejirm, carlo, post, covid, parlon]\n",
       "                              ...                        \n",
       "2995    [@paulchenkaiser, @nationalpost, thank, info, ...\n",
       "2996        [covid, plane, disgusting, mask, lysol, wipe]\n",
       "2997    [webinar, watch, covid-19, change, care, home,...\n",
       "2998    [effect, covid, true, tenor, lose, octave, ran...\n",
       "2999    [@colleenb123, ticket, covid, waukegan, wife, ...\n",
       "Name: text, Length: 3000, dtype: object"
      ]
     },
     "execution_count": 261,
     "metadata": {},
     "output_type": "execute_result"
    }
   ],
   "source": [
    "dt.text"
   ]
  },
  {
   "cell_type": "code",
   "execution_count": 357,
   "metadata": {},
   "outputs": [],
   "source": [
    "lematized = dt['text'].apply(lematized_doc)"
   ]
  },
  {
   "cell_type": "markdown",
   "metadata": {},
   "source": [
    "Stopword removal for each topic"
   ]
  },
  {
   "cell_type": "code",
   "execution_count": 358,
   "metadata": {},
   "outputs": [
    {
     "name": "stdout",
     "output_type": "stream",
     "text": [
      "['homie', 'hate', 'legal', 'definition', 'disability', 'covid', 'show', 'useless', 'effectively', 'function', 'disabled', 'access', 'certain', 'inadequate', 'measure']\n"
     ]
    }
   ],
   "source": [
    "sws_removed=[]\n",
    "for j,sent in enumerate(lematized):\n",
    "    sws_removed.append([i for i in sent if i not in sws and len(i) > 2])\n",
    "print(sws_removed[1])"
   ]
  },
  {
   "cell_type": "code",
   "execution_count": 133,
   "metadata": {},
   "outputs": [],
   "source": [
    "#!pip install vaderSentiment"
   ]
  },
  {
   "cell_type": "markdown",
   "metadata": {},
   "source": [
    "# Gensim Library\n",
    "The result of our cleaning stage is tweets, a tokenized, stop-removed list of words from a single tweet. We looped through all our documents and appended each one to our sws_removed variable. So now sws_removed is a list of lists, one list for each of our original tweets.\n",
    "\n",
    "To generate an LDA model, we need to understand how frequently each term occurs within each document. To do that, we need to construct a document-term matrix with a package called gensim:"
   ]
  },
  {
   "cell_type": "code",
   "execution_count": 359,
   "metadata": {},
   "outputs": [],
   "source": [
    "from gensim import corpora, models\n",
    "dictionary = corpora.Dictionary(sws_removed)\n",
    "dictionary.filter_extremes(no_below=5, no_above=0.3)\n",
    "dictionary.compactify()"
   ]
  },
  {
   "cell_type": "markdown",
   "metadata": {},
   "source": [
    "The Dictionary() function traverses data, assigning a unique integer id to each unique token while also collecting word counts and relevant statistics. To see each token's unique integer id, try print(dictionary.token2id).\n",
    "\n",
    "Next, our dictionary must be converted into a bag-of-words:"
   ]
  },
  {
   "cell_type": "code",
   "execution_count": 360,
   "metadata": {},
   "outputs": [],
   "source": [
    "corpus = [dictionary.doc2bow(text) for text in sws_removed]"
   ]
  },
  {
   "cell_type": "markdown",
   "metadata": {},
   "source": [
    "The doc2bow() function converts dictionary into a bag-of-words. The result, corpus, is a list of vectors equal to the number of tweets. In each tweet vector is a series of tuples. As an example, print(corpus[2]) results in the following:"
   ]
  },
  {
   "cell_type": "code",
   "execution_count": 361,
   "metadata": {},
   "outputs": [
    {
     "name": "stdout",
     "output_type": "stream",
     "text": [
      "[(3, 1), (8, 1), (9, 1), (10, 1), (11, 1), (12, 1), (13, 1), (14, 1), (15, 1), (16, 1)]\n"
     ]
    }
   ],
   "source": [
    "print(corpus[1])"
   ]
  },
  {
   "cell_type": "markdown",
   "metadata": {},
   "source": [
    "This list of tuples represents our first tweet. The tuples are (term ID, term frequency) pairs. doc2bow() only includes terms that actually occur: terms that do not occur in a tweet will not appear in that tweet's vector."
   ]
  },
  {
   "cell_type": "code",
   "execution_count": null,
   "metadata": {},
   "outputs": [],
   "source": []
  },
  {
   "cell_type": "code",
   "execution_count": null,
   "metadata": {},
   "outputs": [],
   "source": []
  },
  {
   "cell_type": "code",
   "execution_count": null,
   "metadata": {},
   "outputs": [],
   "source": []
  },
  {
   "cell_type": "code",
   "execution_count": null,
   "metadata": {},
   "outputs": [],
   "source": []
  },
  {
   "cell_type": "markdown",
   "metadata": {},
   "source": [
    "# LDA model\n",
    "corpus is a document-term matrix and now we are ready to generate an LDA model:"
   ]
  },
  {
   "cell_type": "code",
   "execution_count": 362,
   "metadata": {},
   "outputs": [],
   "source": [
    "ldamodel = models.ldamodel.LdaModel(corpus, num_topics=4, id2word=dictionary, passes=20)"
   ]
  },
  {
   "cell_type": "markdown",
   "metadata": {},
   "source": [
    "The LdaModel class is described in detail in the gensim documentation.\n",
    "Parameters used in our example:\n",
    "num_topics: required. An LDA model requires the user to determine how many topics should be generated. Our document set is small, so we’re only asking for three topics.\n",
    "id2word: required. The LdaModel class requires our previous dictionary to map ids to strings.\n",
    "passes: optional. The number of laps the model will take through corpus. The greater the number of passes, the more accurate the model will be. A lot of passes can be slow on a very large corpus."
   ]
  },
  {
   "cell_type": "markdown",
   "metadata": {},
   "source": [
    "# Examining the results\n",
    "Our LDA model is now stored as ldamodel. We can review our topics with the print_topic and print_topics methods:"
   ]
  },
  {
   "cell_type": "code",
   "execution_count": 363,
   "metadata": {
    "scrolled": true
   },
   "outputs": [
    {
     "data": {
      "text/plain": [
       "[(0,\n",
       "  '0.041*\"mask\" + 0.018*\"test\" + 0.017*\"mandate\" + 0.014*\"vaccine\" + 0.009*\"live\" + 0.008*\"school\" + 0.007*\"understand\" + 0.007*\"april\" + 0.007*\"hard\" + 0.007*\"nearly\"'),\n",
       " (1,\n",
       "  '0.021*\"high\" + 0.020*\"putin\" + 0.018*\"biden\" + 0.012*\"mask\" + 0.012*\"price\" + 0.012*\"blame\" + 0.011*\"president\" + 0.010*\"trump\" + 0.009*\"china\" + 0.009*\"inflation\"'),\n",
       " (2,\n",
       "  '0.017*\"hospital\" + 0.012*\"vaccine\" + 0.009*\"break\" + 0.009*\"show\" + 0.008*\"datum\" + 0.007*\"hope\" + 0.007*\"2022\" + 0.006*\"increase\" + 0.006*\"different\" + 0.006*\"kid\"'),\n",
       " (3,\n",
       "  '0.031*\"mask\" + 0.019*\"vaccine\" + 0.010*\"update\" + 0.009*\"cold\" + 0.009*\"virus\" + 0.008*\"vaccinate\" + 0.008*\"plane\" + 0.007*\"effect\" + 0.007*\"protect\" + 0.007*\"booster\"')]"
      ]
     },
     "execution_count": 363,
     "metadata": {},
     "output_type": "execute_result"
    }
   ],
   "source": [
    "ldamodel.print_topics(num_topics=4, num_words=10)"
   ]
  },
  {
   "cell_type": "code",
   "execution_count": 274,
   "metadata": {},
   "outputs": [
    {
     "name": "stdout",
     "output_type": "stream",
     "text": [
      "3000\n"
     ]
    }
   ],
   "source": [
    "print(len(corpus))"
   ]
  },
  {
   "cell_type": "code",
   "execution_count": 259,
   "metadata": {},
   "outputs": [
    {
     "name": "stdout",
     "output_type": "stream",
     "text": [
      "3000\n"
     ]
    }
   ],
   "source": [
    "print(len(dt['text']))"
   ]
  },
  {
   "cell_type": "markdown",
   "metadata": {},
   "source": [
    "What does this mean? Each generated topic is separated by a comma. Within each topic are the three most probable words to appear in that topic. Even though our document set is small the model is reasonable."
   ]
  },
  {
   "cell_type": "code",
   "execution_count": 298,
   "metadata": {},
   "outputs": [],
   "source": [
    "topics_df = pd.DataFrame()\n",
    "for i in range(0, len(corpus)):  \n",
    "    topics = ldamodel.get_document_topics(corpus[i])\n",
    "    topics = sorted(topics, key=lambda x: -x[1])\n",
    "    for j, (topic_num, prop_topic) in enumerate(topics):\n",
    "            \n",
    "            # Diplay the dominant topics\n",
    "            if j == 0:  \n",
    "                dom = ldamodel.show_topic(topic_num)\n",
    "                topic_keywords = \", \".join([word for word, prop in dom])\n",
    "                topics_df = topics_df.append(pd.Series([int(topic_num), round(prop_topic,2)*100, topic_keywords]), ignore_index=True)\n",
    "            else:\n",
    "                break"
   ]
  },
  {
   "cell_type": "code",
   "execution_count": 299,
   "metadata": {},
   "outputs": [
    {
     "data": {
      "text/html": [
       "<div>\n",
       "<style scoped>\n",
       "    .dataframe tbody tr th:only-of-type {\n",
       "        vertical-align: middle;\n",
       "    }\n",
       "\n",
       "    .dataframe tbody tr th {\n",
       "        vertical-align: top;\n",
       "    }\n",
       "\n",
       "    .dataframe thead th {\n",
       "        text-align: right;\n",
       "    }\n",
       "</style>\n",
       "<table border=\"1\" class=\"dataframe\">\n",
       "  <thead>\n",
       "    <tr style=\"text-align: right;\">\n",
       "      <th></th>\n",
       "      <th>0</th>\n",
       "      <th>1</th>\n",
       "      <th>2</th>\n",
       "    </tr>\n",
       "  </thead>\n",
       "  <tbody>\n",
       "    <tr>\n",
       "      <th>0</th>\n",
       "      <td>2.0</td>\n",
       "      <td>41.000000</td>\n",
       "      <td>putin, death, high, blame, biden, president, l...</td>\n",
       "    </tr>\n",
       "    <tr>\n",
       "      <th>1</th>\n",
       "      <td>0.0</td>\n",
       "      <td>44.000000</td>\n",
       "      <td>mask, vaccine, test, home, sure, right, sick, ...</td>\n",
       "    </tr>\n",
       "    <tr>\n",
       "      <th>2</th>\n",
       "      <td>0.0</td>\n",
       "      <td>52.999997</td>\n",
       "      <td>mask, vaccine, test, home, sure, right, sick, ...</td>\n",
       "    </tr>\n",
       "    <tr>\n",
       "      <th>3</th>\n",
       "      <td>1.0</td>\n",
       "      <td>94.000000</td>\n",
       "      <td>mask, start, mandate, stop, school, prevent, c...</td>\n",
       "    </tr>\n",
       "    <tr>\n",
       "      <th>4</th>\n",
       "      <td>3.0</td>\n",
       "      <td>75.000000</td>\n",
       "      <td>die, death, vaccine, post, world, trump, china...</td>\n",
       "    </tr>\n",
       "    <tr>\n",
       "      <th>...</th>\n",
       "      <td>...</td>\n",
       "      <td>...</td>\n",
       "      <td>...</td>\n",
       "    </tr>\n",
       "    <tr>\n",
       "      <th>2995</th>\n",
       "      <td>3.0</td>\n",
       "      <td>47.999999</td>\n",
       "      <td>die, death, vaccine, post, world, trump, china...</td>\n",
       "    </tr>\n",
       "    <tr>\n",
       "      <th>2996</th>\n",
       "      <td>1.0</td>\n",
       "      <td>75.000000</td>\n",
       "      <td>mask, start, mandate, stop, school, prevent, c...</td>\n",
       "    </tr>\n",
       "    <tr>\n",
       "      <th>2997</th>\n",
       "      <td>0.0</td>\n",
       "      <td>57.999998</td>\n",
       "      <td>mask, vaccine, test, home, sure, right, sick, ...</td>\n",
       "    </tr>\n",
       "    <tr>\n",
       "      <th>2998</th>\n",
       "      <td>2.0</td>\n",
       "      <td>83.999997</td>\n",
       "      <td>putin, death, high, blame, biden, president, l...</td>\n",
       "    </tr>\n",
       "    <tr>\n",
       "      <th>2999</th>\n",
       "      <td>1.0</td>\n",
       "      <td>88.999999</td>\n",
       "      <td>mask, start, mandate, stop, school, prevent, c...</td>\n",
       "    </tr>\n",
       "  </tbody>\n",
       "</table>\n",
       "<p>3000 rows × 3 columns</p>\n",
       "</div>"
      ],
      "text/plain": [
       "        0          1                                                  2\n",
       "0     2.0  41.000000  putin, death, high, blame, biden, president, l...\n",
       "1     0.0  44.000000  mask, vaccine, test, home, sure, right, sick, ...\n",
       "2     0.0  52.999997  mask, vaccine, test, home, sure, right, sick, ...\n",
       "3     1.0  94.000000  mask, start, mandate, stop, school, prevent, c...\n",
       "4     3.0  75.000000  die, death, vaccine, post, world, trump, china...\n",
       "...   ...        ...                                                ...\n",
       "2995  3.0  47.999999  die, death, vaccine, post, world, trump, china...\n",
       "2996  1.0  75.000000  mask, start, mandate, stop, school, prevent, c...\n",
       "2997  0.0  57.999998  mask, vaccine, test, home, sure, right, sick, ...\n",
       "2998  2.0  83.999997  putin, death, high, blame, biden, president, l...\n",
       "2999  1.0  88.999999  mask, start, mandate, stop, school, prevent, c...\n",
       "\n",
       "[3000 rows x 3 columns]"
      ]
     },
     "execution_count": 299,
     "metadata": {},
     "output_type": "execute_result"
    }
   ],
   "source": [
    "topics_df"
   ]
  },
  {
   "cell_type": "code",
   "execution_count": null,
   "metadata": {},
   "outputs": [],
   "source": []
  },
  {
   "cell_type": "code",
   "execution_count": null,
   "metadata": {},
   "outputs": [],
   "source": []
  },
  {
   "cell_type": "code",
   "execution_count": 280,
   "metadata": {},
   "outputs": [],
   "source": [
    "original = dt['text']"
   ]
  },
  {
   "cell_type": "code",
   "execution_count": null,
   "metadata": {},
   "outputs": [],
   "source": []
  },
  {
   "cell_type": "markdown",
   "metadata": {},
   "source": [
    "## Sentiment Analysis"
   ]
  },
  {
   "cell_type": "code",
   "execution_count": 300,
   "metadata": {},
   "outputs": [],
   "source": [
    "\n",
    "from vaderSentiment.vaderSentiment import SentimentIntensityAnalyzer\n",
    "\n",
    "\n",
    "rows =[]\n",
    "\n",
    "analyzer = SentimentIntensityAnalyzer()\n",
    "\n",
    "compound=[]\n",
    "for sentence in original:\n",
    "    #joined = \" \".join(sentence)\n",
    "    vs = analyzer.polarity_scores(sentence)\n",
    "    compound.append(vs['compound'])\n",
    "\n",
    "    \n"
   ]
  },
  {
   "cell_type": "code",
   "execution_count": null,
   "metadata": {},
   "outputs": [],
   "source": []
  },
  {
   "cell_type": "code",
   "execution_count": 301,
   "metadata": {},
   "outputs": [],
   "source": [
    "hashtag = pd.Series(dt['hashtags'])\n",
    "sent = pd.Series(compound)\n",
    "original_txt = pd.Series(original)\n",
    "topics_df = pd.concat([topics_df,original, hashtag, sent], axis=1)\n"
   ]
  },
  {
   "cell_type": "code",
   "execution_count": 302,
   "metadata": {},
   "outputs": [
    {
     "data": {
      "text/html": [
       "<div>\n",
       "<style scoped>\n",
       "    .dataframe tbody tr th:only-of-type {\n",
       "        vertical-align: middle;\n",
       "    }\n",
       "\n",
       "    .dataframe tbody tr th {\n",
       "        vertical-align: top;\n",
       "    }\n",
       "\n",
       "    .dataframe thead th {\n",
       "        text-align: right;\n",
       "    }\n",
       "</style>\n",
       "<table border=\"1\" class=\"dataframe\">\n",
       "  <thead>\n",
       "    <tr style=\"text-align: right;\">\n",
       "      <th></th>\n",
       "      <th>0</th>\n",
       "      <th>1</th>\n",
       "      <th>2</th>\n",
       "      <th>text</th>\n",
       "      <th>hashtags</th>\n",
       "      <th>0</th>\n",
       "    </tr>\n",
       "  </thead>\n",
       "  <tbody>\n",
       "    <tr>\n",
       "      <th>0</th>\n",
       "      <td>2.0</td>\n",
       "      <td>41.000000</td>\n",
       "      <td>putin, death, high, blame, biden, president, l...</td>\n",
       "      <td>@angryhacademic @dbkell The long covid clinic ...</td>\n",
       "      <td></td>\n",
       "      <td>0.2609</td>\n",
       "    </tr>\n",
       "    <tr>\n",
       "      <th>1</th>\n",
       "      <td>0.0</td>\n",
       "      <td>44.000000</td>\n",
       "      <td>mask, vaccine, test, home, sure, right, sick, ...</td>\n",
       "      <td>all my homies hate state/legal definitions of ...</td>\n",
       "      <td></td>\n",
       "      <td>-0.6369</td>\n",
       "    </tr>\n",
       "    <tr>\n",
       "      <th>2</th>\n",
       "      <td>0.0</td>\n",
       "      <td>52.999997</td>\n",
       "      <td>mask, vaccine, test, home, sure, right, sick, ...</td>\n",
       "      <td>Decided to celebrate having covid by smashing ...</td>\n",
       "      <td></td>\n",
       "      <td>0.5719</td>\n",
       "    </tr>\n",
       "    <tr>\n",
       "      <th>3</th>\n",
       "      <td>1.0</td>\n",
       "      <td>94.000000</td>\n",
       "      <td>mask, start, mandate, stop, school, prevent, c...</td>\n",
       "      <td>There have been various reactions regarding th...</td>\n",
       "      <td>mfjs2140</td>\n",
       "      <td>-0.3182</td>\n",
       "    </tr>\n",
       "    <tr>\n",
       "      <th>4</th>\n",
       "      <td>3.0</td>\n",
       "      <td>75.000000</td>\n",
       "      <td>die, death, vaccine, post, world, trump, china...</td>\n",
       "      <td>@BejiRM Carlo post covid, parlons en…</td>\n",
       "      <td></td>\n",
       "      <td>0.0000</td>\n",
       "    </tr>\n",
       "    <tr>\n",
       "      <th>...</th>\n",
       "      <td>...</td>\n",
       "      <td>...</td>\n",
       "      <td>...</td>\n",
       "      <td>...</td>\n",
       "      <td>...</td>\n",
       "      <td>...</td>\n",
       "    </tr>\n",
       "    <tr>\n",
       "      <th>2995</th>\n",
       "      <td>3.0</td>\n",
       "      <td>47.999999</td>\n",
       "      <td>die, death, vaccine, post, world, trump, china...</td>\n",
       "      <td>@PaulchenKaiser @nationalpost Thank you for th...</td>\n",
       "      <td></td>\n",
       "      <td>0.0258</td>\n",
       "    </tr>\n",
       "    <tr>\n",
       "      <th>2996</th>\n",
       "      <td>1.0</td>\n",
       "      <td>75.000000</td>\n",
       "      <td>mask, start, mandate, stop, school, prevent, c...</td>\n",
       "      <td>Covid or no, planes have always been and will ...</td>\n",
       "      <td></td>\n",
       "      <td>-0.6625</td>\n",
       "    </tr>\n",
       "    <tr>\n",
       "      <th>2997</th>\n",
       "      <td>0.0</td>\n",
       "      <td>57.999998</td>\n",
       "      <td>mask, vaccine, test, home, sure, right, sick, ...</td>\n",
       "      <td>Webinar re-watch:\\nCOVID-19 changes for care h...</td>\n",
       "      <td></td>\n",
       "      <td>0.4939</td>\n",
       "    </tr>\n",
       "    <tr>\n",
       "      <th>2998</th>\n",
       "      <td>2.0</td>\n",
       "      <td>83.999997</td>\n",
       "      <td>putin, death, high, blame, biden, president, l...</td>\n",
       "      <td>one of the effects of long covid seems to be t...</td>\n",
       "      <td></td>\n",
       "      <td>0.5106</td>\n",
       "    </tr>\n",
       "    <tr>\n",
       "      <th>2999</th>\n",
       "      <td>1.0</td>\n",
       "      <td>88.999999</td>\n",
       "      <td>mask, start, mandate, stop, school, prevent, c...</td>\n",
       "      <td>@ColleenB123 I’ve had the tickets since before...</td>\n",
       "      <td></td>\n",
       "      <td>-0.8519</td>\n",
       "    </tr>\n",
       "  </tbody>\n",
       "</table>\n",
       "<p>3000 rows × 6 columns</p>\n",
       "</div>"
      ],
      "text/plain": [
       "        0          1                                                  2  \\\n",
       "0     2.0  41.000000  putin, death, high, blame, biden, president, l...   \n",
       "1     0.0  44.000000  mask, vaccine, test, home, sure, right, sick, ...   \n",
       "2     0.0  52.999997  mask, vaccine, test, home, sure, right, sick, ...   \n",
       "3     1.0  94.000000  mask, start, mandate, stop, school, prevent, c...   \n",
       "4     3.0  75.000000  die, death, vaccine, post, world, trump, china...   \n",
       "...   ...        ...                                                ...   \n",
       "2995  3.0  47.999999  die, death, vaccine, post, world, trump, china...   \n",
       "2996  1.0  75.000000  mask, start, mandate, stop, school, prevent, c...   \n",
       "2997  0.0  57.999998  mask, vaccine, test, home, sure, right, sick, ...   \n",
       "2998  2.0  83.999997  putin, death, high, blame, biden, president, l...   \n",
       "2999  1.0  88.999999  mask, start, mandate, stop, school, prevent, c...   \n",
       "\n",
       "                                                   text  hashtags       0  \n",
       "0     @angryhacademic @dbkell The long covid clinic ...            0.2609  \n",
       "1     all my homies hate state/legal definitions of ...           -0.6369  \n",
       "2     Decided to celebrate having covid by smashing ...            0.5719  \n",
       "3     There have been various reactions regarding th...  mfjs2140 -0.3182  \n",
       "4                 @BejiRM Carlo post covid, parlons en…            0.0000  \n",
       "...                                                 ...       ...     ...  \n",
       "2995  @PaulchenKaiser @nationalpost Thank you for th...            0.0258  \n",
       "2996  Covid or no, planes have always been and will ...           -0.6625  \n",
       "2997  Webinar re-watch:\\nCOVID-19 changes for care h...            0.4939  \n",
       "2998  one of the effects of long covid seems to be t...            0.5106  \n",
       "2999  @ColleenB123 I’ve had the tickets since before...           -0.8519  \n",
       "\n",
       "[3000 rows x 6 columns]"
      ]
     },
     "execution_count": 302,
     "metadata": {},
     "output_type": "execute_result"
    }
   ],
   "source": [
    "topics_df"
   ]
  },
  {
   "cell_type": "code",
   "execution_count": 304,
   "metadata": {},
   "outputs": [
    {
     "data": {
      "text/html": [
       "<div>\n",
       "<style scoped>\n",
       "    .dataframe tbody tr th:only-of-type {\n",
       "        vertical-align: middle;\n",
       "    }\n",
       "\n",
       "    .dataframe tbody tr th {\n",
       "        vertical-align: top;\n",
       "    }\n",
       "\n",
       "    .dataframe thead th {\n",
       "        text-align: right;\n",
       "    }\n",
       "</style>\n",
       "<table border=\"1\" class=\"dataframe\">\n",
       "  <thead>\n",
       "    <tr style=\"text-align: right;\">\n",
       "      <th></th>\n",
       "      <th>No</th>\n",
       "      <th>Topic</th>\n",
       "      <th>Percent_contr_per_topic</th>\n",
       "      <th>Keywords</th>\n",
       "      <th>Original text</th>\n",
       "      <th>Hashtag</th>\n",
       "      <th>sentiment</th>\n",
       "    </tr>\n",
       "  </thead>\n",
       "  <tbody>\n",
       "    <tr>\n",
       "      <th>2990</th>\n",
       "      <td>2990</td>\n",
       "      <td>0.0</td>\n",
       "      <td>57.999998</td>\n",
       "      <td>mask, vaccine, test, home, sure, right, sick, ...</td>\n",
       "      <td>#CovidUpdate: Jamaica reported 35 new cases of...</td>\n",
       "      <td>CovidUpdate</td>\n",
       "      <td>-0.7717</td>\n",
       "    </tr>\n",
       "    <tr>\n",
       "      <th>2991</th>\n",
       "      <td>2991</td>\n",
       "      <td>3.0</td>\n",
       "      <td>79.000002</td>\n",
       "      <td>die, death, vaccine, post, world, trump, china...</td>\n",
       "      <td>@IPL @davidwarner31 @DelhiCapitals Well played...</td>\n",
       "      <td>PBKSvDC</td>\n",
       "      <td>0.5346</td>\n",
       "    </tr>\n",
       "    <tr>\n",
       "      <th>2992</th>\n",
       "      <td>2992</td>\n",
       "      <td>3.0</td>\n",
       "      <td>85.000002</td>\n",
       "      <td>die, death, vaccine, post, world, trump, china...</td>\n",
       "      <td>Disabled people are being left out of COVID re...</td>\n",
       "      <td></td>\n",
       "      <td>0.0000</td>\n",
       "    </tr>\n",
       "    <tr>\n",
       "      <th>2993</th>\n",
       "      <td>2993</td>\n",
       "      <td>1.0</td>\n",
       "      <td>38.999999</td>\n",
       "      <td>mask, start, mandate, stop, school, prevent, c...</td>\n",
       "      <td>PTI is not projecting its achievements startin...</td>\n",
       "      <td></td>\n",
       "      <td>0.0000</td>\n",
       "    </tr>\n",
       "    <tr>\n",
       "      <th>2994</th>\n",
       "      <td>2994</td>\n",
       "      <td>0.0</td>\n",
       "      <td>88.999999</td>\n",
       "      <td>mask, vaccine, test, home, sure, right, sick, ...</td>\n",
       "      <td>@KatieAppleseed2 A lot of people love Covid ca...</td>\n",
       "      <td></td>\n",
       "      <td>0.7579</td>\n",
       "    </tr>\n",
       "    <tr>\n",
       "      <th>2995</th>\n",
       "      <td>2995</td>\n",
       "      <td>3.0</td>\n",
       "      <td>47.999999</td>\n",
       "      <td>die, death, vaccine, post, world, trump, china...</td>\n",
       "      <td>@PaulchenKaiser @nationalpost Thank you for th...</td>\n",
       "      <td></td>\n",
       "      <td>0.0258</td>\n",
       "    </tr>\n",
       "    <tr>\n",
       "      <th>2996</th>\n",
       "      <td>2996</td>\n",
       "      <td>1.0</td>\n",
       "      <td>75.000000</td>\n",
       "      <td>mask, start, mandate, stop, school, prevent, c...</td>\n",
       "      <td>Covid or no, planes have always been and will ...</td>\n",
       "      <td></td>\n",
       "      <td>-0.6625</td>\n",
       "    </tr>\n",
       "    <tr>\n",
       "      <th>2997</th>\n",
       "      <td>2997</td>\n",
       "      <td>0.0</td>\n",
       "      <td>57.999998</td>\n",
       "      <td>mask, vaccine, test, home, sure, right, sick, ...</td>\n",
       "      <td>Webinar re-watch:\\nCOVID-19 changes for care h...</td>\n",
       "      <td></td>\n",
       "      <td>0.4939</td>\n",
       "    </tr>\n",
       "    <tr>\n",
       "      <th>2998</th>\n",
       "      <td>2998</td>\n",
       "      <td>2.0</td>\n",
       "      <td>83.999997</td>\n",
       "      <td>putin, death, high, blame, biden, president, l...</td>\n",
       "      <td>one of the effects of long covid seems to be t...</td>\n",
       "      <td></td>\n",
       "      <td>0.5106</td>\n",
       "    </tr>\n",
       "    <tr>\n",
       "      <th>2999</th>\n",
       "      <td>2999</td>\n",
       "      <td>1.0</td>\n",
       "      <td>88.999999</td>\n",
       "      <td>mask, start, mandate, stop, school, prevent, c...</td>\n",
       "      <td>@ColleenB123 I’ve had the tickets since before...</td>\n",
       "      <td></td>\n",
       "      <td>-0.8519</td>\n",
       "    </tr>\n",
       "  </tbody>\n",
       "</table>\n",
       "</div>"
      ],
      "text/plain": [
       "        No  Topic  Percent_contr_per_topic  \\\n",
       "2990  2990    0.0                57.999998   \n",
       "2991  2991    3.0                79.000002   \n",
       "2992  2992    3.0                85.000002   \n",
       "2993  2993    1.0                38.999999   \n",
       "2994  2994    0.0                88.999999   \n",
       "2995  2995    3.0                47.999999   \n",
       "2996  2996    1.0                75.000000   \n",
       "2997  2997    0.0                57.999998   \n",
       "2998  2998    2.0                83.999997   \n",
       "2999  2999    1.0                88.999999   \n",
       "\n",
       "                                               Keywords  \\\n",
       "2990  mask, vaccine, test, home, sure, right, sick, ...   \n",
       "2991  die, death, vaccine, post, world, trump, china...   \n",
       "2992  die, death, vaccine, post, world, trump, china...   \n",
       "2993  mask, start, mandate, stop, school, prevent, c...   \n",
       "2994  mask, vaccine, test, home, sure, right, sick, ...   \n",
       "2995  die, death, vaccine, post, world, trump, china...   \n",
       "2996  mask, start, mandate, stop, school, prevent, c...   \n",
       "2997  mask, vaccine, test, home, sure, right, sick, ...   \n",
       "2998  putin, death, high, blame, biden, president, l...   \n",
       "2999  mask, start, mandate, stop, school, prevent, c...   \n",
       "\n",
       "                                          Original text      Hashtag  \\\n",
       "2990  #CovidUpdate: Jamaica reported 35 new cases of...  CovidUpdate   \n",
       "2991  @IPL @davidwarner31 @DelhiCapitals Well played...      PBKSvDC   \n",
       "2992  Disabled people are being left out of COVID re...                \n",
       "2993  PTI is not projecting its achievements startin...                \n",
       "2994  @KatieAppleseed2 A lot of people love Covid ca...                \n",
       "2995  @PaulchenKaiser @nationalpost Thank you for th...                \n",
       "2996  Covid or no, planes have always been and will ...                \n",
       "2997  Webinar re-watch:\\nCOVID-19 changes for care h...                \n",
       "2998  one of the effects of long covid seems to be t...                \n",
       "2999  @ColleenB123 I’ve had the tickets since before...                \n",
       "\n",
       "      sentiment  \n",
       "2990    -0.7717  \n",
       "2991     0.5346  \n",
       "2992     0.0000  \n",
       "2993     0.0000  \n",
       "2994     0.7579  \n",
       "2995     0.0258  \n",
       "2996    -0.6625  \n",
       "2997     0.4939  \n",
       "2998     0.5106  \n",
       "2999    -0.8519  "
      ]
     },
     "execution_count": 304,
     "metadata": {},
     "output_type": "execute_result"
    }
   ],
   "source": [
    "output_df = topics_df.reset_index()\n",
    "output_df.columns = ['No', 'Topic', 'Percent_contr_per_topic', 'Keywords', 'Original text', 'Hashtag', 'sentiment']\n",
    "# Show\n",
    "output_df.tail(10)"
   ]
  },
  {
   "cell_type": "code",
   "execution_count": null,
   "metadata": {},
   "outputs": [],
   "source": []
  },
  {
   "cell_type": "markdown",
   "metadata": {},
   "source": [
    "### Effect of dataset size"
   ]
  },
  {
   "cell_type": "code",
   "execution_count": 317,
   "metadata": {},
   "outputs": [],
   "source": [
    "\n",
    "\n",
    "def get_tweets(client, input_query, n=300):\n",
    "    page_size = 100\n",
    "    pages = n // 100 + 1\n",
    "    i = 0\n",
    "    for tweet_batch in tweepy.Paginator(client.search_recent_tweets, input_query,\n",
    "                                  tweet_fields=[\"created_at\", \"public_metrics\", \"entities\"],\n",
    "                                   expansions=[\"author_id\"],\n",
    "                                  user_fields=[\"username\", \"public_metrics\"],\n",
    "                                  max_results=page_size, limit=pages):\n",
    "        user_lookup = {u.id: u.data for u in tweet_batch.includes[\"users\"]}\n",
    "        for tweet in tweet_batch.data:\n",
    "            data = tweet.data\n",
    "            data[\"author\"] = user_lookup[tweet.author_id]\n",
    "            i += 1\n",
    "            yield tweet\n",
    "            \n",
    "            if i == n:\n",
    "                return\n",
    "            \n",
    "def get_entities(tweet, entity):\n",
    "    if tweet.entities and entity in tweet.entities:\n",
    "        return tweet.entities[entity]\n",
    "    else:\n",
    "        return []"
   ]
  },
  {
   "cell_type": "code",
   "execution_count": 318,
   "metadata": {},
   "outputs": [
    {
     "name": "stdout",
     "output_type": "stream",
     "text": [
      "covid\n",
      "processed 100 tweets: saved 100\n",
      "processed 200 tweets: saved 200\n",
      "processed 300 tweets: saved 300\n"
     ]
    }
   ],
   "source": [
    "\n",
    "\n",
    "dataset_s = []\n",
    "download_tweet_count = 300\n",
    "seen = {}\n",
    "for input_query in input_queries:\n",
    "    #Download, skipping retweets, look for english\n",
    "    input_query_nort = \"{} -is:retweet lang:en\".format(input_query)\n",
    "    print(input_query)\n",
    "    q_dataset = []\n",
    "    for i, tweet in enumerate(get_tweets(client, input_query_nort)):\n",
    "        datum = {\n",
    "            \"topic\": input_query,\n",
    "            \"id\": tweet.id,\n",
    "\n",
    "            #user related info\n",
    "            \"username\": tweet.author[\"username\"],\n",
    "            \"name\": tweet.author[\"name\"],\n",
    "            \"user_followers_count\": tweet.author[\"public_metrics\"][\"followers_count\"],\n",
    "            \"user_friends_count\": tweet.author[\"public_metrics\"][\"following_count\"],\n",
    "            # tweet related information\n",
    "            \"text\": tweet.text,\n",
    "            \"created_at\": tweet.created_at.strftime(\"%Y-%m-%d %H:%M:%S\"),\n",
    "            \"like_count\": tweet.public_metrics[\"like_count\"],\n",
    "            \"retweet_count\": tweet.public_metrics[\"retweet_count\"],\n",
    "            # some extracted data from tweet\n",
    "            \"hashtags\": ','.join(ht['tag'] for ht in get_entities(tweet, \"hashtags\")),\n",
    "            \"mentioned_urls\": ','.join(url['expanded_url'] for url in get_entities(tweet, 'urls')),\n",
    "            \"mentioned_user_ids\": ','.join(mention['id'] for mention in get_entities(tweet, \"mentions\")),\n",
    "            \"mentioned_user_names\": ','.join(mention['username'] for mention in get_entities(tweet, \"mentions\")),\n",
    "        }\n",
    "        q_dataset += [datum]\n",
    "\n",
    "        if (i + 1) % 100 == 0:\n",
    "            print(\"processed {} tweets: saved {}\".format(i + 1, len(q_dataset)))\n",
    "                  \n",
    "        if len(q_dataset) >= download_tweet_count:\n",
    "            break\n",
    "    dataset_s += q_dataset"
   ]
  },
  {
   "cell_type": "code",
   "execution_count": 320,
   "metadata": {},
   "outputs": [],
   "source": [
    "dt_s = pd.DataFrame.from_dict(dataset_s)"
   ]
  },
  {
   "cell_type": "code",
   "execution_count": 322,
   "metadata": {},
   "outputs": [],
   "source": [
    "nlp = spacy.load('en_core_web_sm')\n",
    "\n",
    "def lematized_doc(text): \n",
    "    rev_text = nlp(text)\n",
    "    rev_text = ([token.lemma_.lower() for token in rev_text if not token.is_stop and token.text not in sws and not token.is_punct and len(token.text) > 3])\n",
    "    return rev_text"
   ]
  },
  {
   "cell_type": "code",
   "execution_count": 323,
   "metadata": {},
   "outputs": [],
   "source": [
    "lematized_s = dt_s['text'].apply(lematized_doc)"
   ]
  },
  {
   "cell_type": "code",
   "execution_count": 324,
   "metadata": {},
   "outputs": [
    {
     "name": "stdout",
     "output_type": "stream",
     "text": [
      "['@iforgot49835002', '@mirai_aus', 'covid', 'double', 'triple', 'vaxxed']\n"
     ]
    }
   ],
   "source": [
    "small=[]\n",
    "for j,sent in enumerate(lematized_s):\n",
    "    small.append([i for i in sent if i not in sws and len(i) > 2])\n",
    "print(small[1])"
   ]
  },
  {
   "cell_type": "code",
   "execution_count": 325,
   "metadata": {},
   "outputs": [],
   "source": [
    "from gensim import corpora, models\n",
    "dictionary = corpora.Dictionary(small)\n",
    "dictionary.filter_extremes(no_below=5, no_above=0.3)\n",
    "dictionary.compactify()"
   ]
  },
  {
   "cell_type": "code",
   "execution_count": 326,
   "metadata": {},
   "outputs": [],
   "source": [
    "corpus_s = [dictionary.doc2bow(text) for text in small]"
   ]
  },
  {
   "cell_type": "code",
   "execution_count": 327,
   "metadata": {},
   "outputs": [],
   "source": [
    "ldamodel_s = models.ldamodel.LdaModel(corpus_s, num_topics=4, id2word=dictionary, passes=20)"
   ]
  },
  {
   "cell_type": "code",
   "execution_count": 329,
   "metadata": {},
   "outputs": [
    {
     "data": {
      "text/plain": [
       "[(0,\n",
       "  '0.076*\"death\" + 0.055*\"test\" + 0.048*\"help\" + 0.044*\"live\" + 0.044*\"requirement\"'),\n",
       " (1,\n",
       "  '0.087*\"mask\" + 0.061*\"feel\" + 0.056*\"report\" + 0.054*\"lose\" + 0.051*\"virus\"'),\n",
       " (2,\n",
       "  '0.071*\"come\" + 0.054*\"director\" + 0.048*\"vaccinate\" + 0.043*\"child\" + 0.042*\"pass\"'),\n",
       " (3,\n",
       "  '0.059*\"mandate\" + 0.055*\"mask\" + 0.049*\"place\" + 0.044*\"stop\" + 0.044*\"policy\"')]"
      ]
     },
     "execution_count": 329,
     "metadata": {},
     "output_type": "execute_result"
    }
   ],
   "source": [
    "ldamodel_s.print_topics(num_topics=4, num_words=5)"
   ]
  },
  {
   "cell_type": "markdown",
   "metadata": {},
   "source": [
    "### Sentiment of each topic vs Sentiment of whole dataset"
   ]
  },
  {
   "cell_type": "markdown",
   "metadata": {},
   "source": [
    "positive sentiment: compound score >= 0.05"
   ]
  },
  {
   "cell_type": "markdown",
   "metadata": {},
   "source": [
    "neutral sentiment: (compound score > -0.05) and (compound score < 0.05)"
   ]
  },
  {
   "cell_type": "markdown",
   "metadata": {},
   "source": [
    "negative sentiment: compound score <= -0.05"
   ]
  },
  {
   "cell_type": "code",
   "execution_count": 308,
   "metadata": {},
   "outputs": [
    {
     "name": "stdout",
     "output_type": "stream",
     "text": [
      "-0.06259706666666678\n"
     ]
    }
   ],
   "source": [
    "all_compound = output_df['sentiment'].mean()\n",
    "print(all_compound)"
   ]
  },
  {
   "cell_type": "code",
   "execution_count": 311,
   "metadata": {},
   "outputs": [],
   "source": [
    "t1_df= output_df[output_df['Topic']==0.0]\n",
    "t2_df= output_df[output_df['Topic']==1.0]\n",
    "t3_df= output_df[output_df['Topic']==2.0]\n",
    "t4_df= output_df[output_df['Topic']==3.0]"
   ]
  },
  {
   "cell_type": "code",
   "execution_count": 314,
   "metadata": {},
   "outputs": [
    {
     "name": "stdout",
     "output_type": "stream",
     "text": [
      "Topic 1 compound score:  -0.003408414239482172\n",
      "Topic 2 compound score:  -0.011039082058414463\n",
      "Topic 3 compound score:  -0.13278314960629914\n",
      "Topic 4 compound score:  -0.12848011126564685\n"
     ]
    }
   ],
   "source": [
    "t_1 = t1_df['sentiment'].mean()\n",
    "t_2 = t2_df['sentiment'].mean()\n",
    "t_3 = t3_df['sentiment'].mean()\n",
    "t_4 = t4_df['sentiment'].mean()\n",
    "print(\"Topic 1 compound score: \", t_1)\n",
    "print(\"Topic 2 compound score: \", t_2)\n",
    "print(\"Topic 3 compound score: \", t_3)\n",
    "print(\"Topic 4 compound score: \", t_4)"
   ]
  },
  {
   "cell_type": "markdown",
   "metadata": {},
   "source": [
    "### Hashtag Analysis"
   ]
  },
  {
   "cell_type": "code",
   "execution_count": 349,
   "metadata": {},
   "outputs": [],
   "source": [
    "hashtag_1 = t1_df[\"Hashtag\"]\n",
    "hashtag_2 = t2_df[\"Hashtag\"]\n",
    "hashtag_3 = t3_df[\"Hashtag\"]\n",
    "hashtag_4 = t4_df[\"Hashtag\"]"
   ]
  },
  {
   "cell_type": "code",
   "execution_count": 351,
   "metadata": {},
   "outputs": [
    {
     "data": {
      "text/plain": [
       "['ONpoli',\n",
       " 'WaLeg',\n",
       " 'Covid_19',\n",
       " 'ACIP',\n",
       " 'foggyhead',\n",
       " 'covid,cybersecurity,Cybersecurityarchitect,HACKED,Albert,ITSSafe,commonsense',\n",
       " 'drudge',\n",
       " 'backintherealworld',\n",
       " 'Covid,deaths',\n",
       " 'Ukraine',\n",
       " 'COVID19,vaccination',\n",
       " 'LongCOVID',\n",
       " 'PublicHealth,Covid',\n",
       " 'maskmandate',\n",
       " 'SellMyHouse,QuickClose',\n",
       " 'SellMyHouse,QuickClose',\n",
       " 'pandemic,COVID,vaccine,vaccination,love,Shakepeare,plague,funny,humor,brilliant,lol,rofl,peerage,masks,friendship,bestfriends,laughter',\n",
       " 'COVID19,Delhi',\n",
       " 'Art,Books,Covid19,Maps,Pandemic',\n",
       " 'COVID,remotework,remotejobs,remoteworking,freelancer,wfh,homeoffice,digitalnomad,projectmanagement,knowledge,workfromhome',\n",
       " 'Covid19',\n",
       " 'HermanCainAward',\n",
       " 'CovidIsNotOver,Corona,Covid_19',\n",
       " 'Delhi,coronavirus,COVID19,COVID19Aus,DelhiCovidUpdate',\n",
       " 'CatsOfTwitter,cats',\n",
       " 'Covid_19,CovidIsntOver',\n",
       " 'WritingCommunity',\n",
       " 'HCPs,VaccinesWork',\n",
       " 'Europe,Brexit,Covid,Ukraine,IR',\n",
       " 'Qatar,COVID19',\n",
       " 'AB2098',\n",
       " 'COVID19,maskmandate',\n",
       " 'Americans,Covid,MAGA,GOP',\n",
       " 'Covid19,Omicron,Pandemic,RapidTesting,Covid,Deltacron',\n",
       " '5G',\n",
       " 'covid',\n",
       " 'Covid,Worcester',\n",
       " 'freedom',\n",
       " 'maskmandate,somuchwinning',\n",
       " 'ImmunizeUnder5s,ProtectionOverPolitics',\n",
       " 'COVID19,vaccinequity',\n",
       " 'Delhi,UttarPradesh,COVID19',\n",
       " 'NowPlaying,radioking,bokaomw,doffouradio,bordeaux,france,paris,covid,musique,webradio,submityoursong,sendyoursong,peace,love,unity,mixité,vivreensemble,deuxièmetour',\n",
       " 'covidsafe,covidtesting',\n",
       " 'maskmandate,threedoctors',\n",
       " 'Brooklyn,CCBQ,Bethesolution,lendahelpinghand,resources,services,NYC,COVID,coronavirus,corona,community,love',\n",
       " 'VACCINE,domains,domainnames,FourthDose,DDShowcase,DigitalRealEstate,COVID,Covid_19,CovidIsNotOver',\n",
       " 'WearAMask,Covid',\n",
       " 'science,covidvariants,genetics',\n",
       " 'VaccinesWork',\n",
       " 'houseofgames',\n",
       " 'Covid,Pandemic',\n",
       " 'generativealgorithm,generativeart,topology,pavilion,installation,structure',\n",
       " 'Covid_19,republicants',\n",
       " 'e_RadioUS',\n",
       " 'COVID,Booster,mRNA',\n",
       " 'TrumpIsATraitor,GOPTraitorsToDemocracy,GOPLiesAboutEverything',\n",
       " 'COVID,MaskMandates,PublicTransport',\n",
       " 'highqualitycurriculum,edurecoveryhub',\n",
       " 'Covid,Vaccinated,SideEffects,DontGetTheJab',\n",
       " 'NYC',\n",
       " 'COVID19',\n",
       " 'CovidIsntOver,CovidIsNotOver,COVID19,Covid_19,COVID,coronavirus',\n",
       " 'CoronavirusUpdates,COVID,CovidIsNotOver',\n",
       " 'Omicron',\n",
       " 'COVID19,vaccinated',\n",
       " 'COVID19,Isolation',\n",
       " 'COVID19',\n",
       " 'Covid19',\n",
       " 'CovidIsNotOver,StaySafe,MaskUpDelhi,coronaupdates',\n",
       " 'Spotify,GameAudio,composer',\n",
       " 'CDC,COVID,maskers,N95,BetterTogether',\n",
       " 'pharma,publichealth',\n",
       " 'COVID19',\n",
       " 'Science',\n",
       " 'ACIP',\n",
       " 'FoW',\n",
       " 'COVID',\n",
       " 'UPDATE',\n",
       " 'mariupol,acciaieria,negoziati,covid,vaccini,wimbledon,mariupol,COVID19,vaccini,Francia,sanzioni',\n",
       " 'leaveourkidsalone',\n",
       " 'Covid_19,WearAMask,NEISvoid',\n",
       " 'flattenthecurve',\n",
       " 'Covid,Florida',\n",
       " 'Delhi,COVID19,Coronaviurs',\n",
       " 'IPL2022,DCvsPBKS',\n",
       " 'HCRRgrants',\n",
       " 'Covid',\n",
       " 'earthday,earthday2022,flooring,flooringcontractors,facilitymaintenance,covid,covid19',\n",
       " 'NewsAndInformation',\n",
       " 'CovidIsNotOver,JohnsonOut86',\n",
       " 'medicalinformatics,covid',\n",
       " 'CelebrateLabConference,GAMLS',\n",
       " 'Covid',\n",
       " 'TheCovidianCult',\n",
       " 'CareForUsByUs,TribesUnited,NativeTwitter,IndigenousTwitter,IndigenousPeople',\n",
       " 'JohnsonOut86,CrimeMinister',\n",
       " 'NeverLabour,BackBoris,BackBorisJohnson',\n",
       " 'Loadsheddingschedule,Loadshedding',\n",
       " 'Shanghai,chinalockdown,TrudeauTyranny,TejRan,covid',\n",
       " 'Covid19,Delhi',\n",
       " 'CovidUpdate']"
      ]
     },
     "execution_count": 351,
     "metadata": {},
     "output_type": "execute_result"
    }
   ],
   "source": [
    "[x for x in hashtag_1 if x]"
   ]
  },
  {
   "cell_type": "code",
   "execution_count": 364,
   "metadata": {},
   "outputs": [
    {
     "data": {
      "text/plain": [
       "['mfjs2140',\n",
       " '3MMI',\n",
       " 'news,WSJ',\n",
       " 'FordFailedOntario,onhealth,onpoli',\n",
       " 'Covid,Covid',\n",
       " 'covid,HIV',\n",
       " 'FollowTheMoney',\n",
       " 'delta,COVID19,EdBastian',\n",
       " 'TRUMP2024',\n",
       " 'DrGottlieb,Covid',\n",
       " 'iheedmed',\n",
       " 'CannabisCommunity,420day,edibles',\n",
       " 'immunocompromised',\n",
       " 'cancelboardexam2022,CBSE,COVID19,PMOIndia',\n",
       " 'shanghai',\n",
       " 'biocomputing',\n",
       " 'Canada,Ontario,tourism,tourist',\n",
       " 'Covid',\n",
       " 'usanews,news,usa,trump,ol,noticias,estrellatv,noticiasestrellatv,noticiasenespa,latinosenusa,estadosunidos,noticiasee',\n",
       " 'UI',\n",
       " 'Covid,Oil,natgas,OOTT,ONGT,Shale,Opec',\n",
       " 'MaskUp',\n",
       " 'Beijing,CCP',\n",
       " 'COVID19',\n",
       " 'COVID19,Ontario,Quebec,Canada,CoronavirusUpdates,COVID',\n",
       " 'Covid',\n",
       " 'APaperADay',\n",
       " 'FordFailedOntario',\n",
       " 'FaceDiapers',\n",
       " 'Due',\n",
       " 'ThanksGodForAllTheBlessings',\n",
       " 'Maskaholics,Masks,COVID19',\n",
       " 'Healthcare,Finances',\n",
       " 'COVID19,pandemic,manufacturing,treatment,informationagainstcovid,covid19impactalert,biotech,biopharma,healthcare',\n",
       " 'hypoxia',\n",
       " 'COVID19',\n",
       " 'WSJ',\n",
       " 'travel',\n",
       " 'GoHalos,coughcough',\n",
       " 'TabbedNews,News,NewsToday,Breaking,BreakingNews,today,story',\n",
       " 'MyBodyMyChoice,NoVaccinePassports',\n",
       " 'Coachella,BIGBANG',\n",
       " 'NJCARES,UNIONCOUNTY,RENTALASSISTANCE',\n",
       " 'infrastructure,roadwork,localgov',\n",
       " 'homelessness',\n",
       " 'Hospitality',\n",
       " 'hepatitis,COVID19',\n",
       " 'SupercoachAFL',\n",
       " 'Featured,Tech,Discoveries,Science',\n",
       " 'COVID19',\n",
       " 'Airline,Covid,carbon,footprint,EarthDay',\n",
       " 'Honey,colds,coronavirus,covid,immunesystem,nutrition,viruses',\n",
       " 'EPS,assistanteditor,postproduction',\n",
       " 'Coverup,ToryCovidCatastrophe,VoteThemOut,LocalElections2022,TacticalVoting,ProgressiveAlliance,Partygate',\n",
       " 'GOPHypocrisy,gophatesyou,CovidIsNotOver,COVIDisAirborne,COVID,GOP',\n",
       " 'pandemic,lifestyle,integrativenutrition',\n",
       " 'TruckFeaudeau',\n",
       " 'IDTwitter,COVID,pandemic',\n",
       " 'iceandfirecon',\n",
       " 'inflation,peipoli',\n",
       " 'youdoyou',\n",
       " 'Covid19',\n",
       " 'Elets,AatmaNirbharBharat,Summit',\n",
       " 'EdTech,Education',\n",
       " 'COVIDtoronto,COVID19ON,COVIDcanada',\n",
       " 'Elets,AatmaNirbharBharat,Summit',\n",
       " 'COVID,Opioid,MentalHealth',\n",
       " 'COVIDtoronto,COVID19ON,COVIDcanada',\n",
       " 'Covid_19,COVID,COVIDIOTS,GOPHypocrisy,GOPLiesAboutEverything,GOPtheRussianParty,GOPTraitorsToDemocracy,GOPBetrayedAmerica,gop',\n",
       " 'Americans,COVID,Mask,GOP,Republicans',\n",
       " 'IsThisNormal',\n",
       " 'Business',\n",
       " 'covid19,medicalbilling,medicalcoding,healthcare,physician,medicare',\n",
       " 'FarmworkerJustice',\n",
       " 'GSD',\n",
       " 'safety,covid19']"
      ]
     },
     "execution_count": 364,
     "metadata": {},
     "output_type": "execute_result"
    }
   ],
   "source": [
    "[x for x in hashtag_2 if x]"
   ]
  },
  {
   "cell_type": "code",
   "execution_count": 365,
   "metadata": {},
   "outputs": [
    {
     "data": {
      "text/plain": [
       "['amerikkka',\n",
       " 'Scotland',\n",
       " 'LongCovid',\n",
       " 'LongCovid',\n",
       " 'SaferWithCorbyn',\n",
       " 'ukedchat',\n",
       " 'Windsor',\n",
       " 'JohnsonOut86,CrimeMinister',\n",
       " 'SaferWithCorbyn',\n",
       " 'LongCovid',\n",
       " 'Windsor',\n",
       " 'StandUpStronger',\n",
       " 'COVID,LongCovid,helpinghand,Grateful',\n",
       " 'Genocide,Gentrification,Covid,School2PrisonPipeline,CRT,IUIC,Israelites,WhiteJesus,Apologist,Easter',\n",
       " 'FollowTheMoney',\n",
       " 'cryptocurrency,cryptocurrencynews,bitcoinnews',\n",
       " 'CANCELCBSEEXAM2022,covid_is_rising,CovidIsntOver,cancelboardexams2022,cbse,PMModi,CBSE',\n",
       " 'COVIDIOTS',\n",
       " 'ScumMedia',\n",
       " 'covid_19,covid19',\n",
       " 'blog,epNetwork,SocEnts',\n",
       " 'COVID,Europe,Australia,NZ',\n",
       " 'IPL2022,IPL,DCvPBKS',\n",
       " 'Fauci,killed,CITIZENS',\n",
       " 'Covid',\n",
       " 'Putin',\n",
       " 'VoteThemAllOut2022',\n",
       " 'Crypto,G2KC',\n",
       " 'Economics,35byQ4,AtlantaFedpresident,BenchmarkBankRate',\n",
       " 'Putin,Covid,Trump,Desantis,GOP,MAGA,Abbott,Qanon,Greedy,VoteBlue,VoteBlueIn22,DemVoice1,DemVoices,BlueVoices,Fresh,GQP,BidenHarris,BlueWave,Resist,BLM',\n",
       " 'Economics,35byQ4,AtlantaFedpresident',\n",
       " 'Economics',\n",
       " 'crypto,cryptocurrency,bitcoin',\n",
       " 'knownews,bitcoin,eth',\n",
       " 'Covid',\n",
       " 'HR,longCOVID,workplace,productivity,disability,COVID19,PASC,BenefitsConf',\n",
       " 'covid',\n",
       " 'EhsaanFaramosh',\n",
       " 'Ramadan',\n",
       " 'canada,littlekerala,keralanews,covid19,coviddata,veenageorge,dailycoviddata',\n",
       " 'ToryCovidCatastrophe,ToryBrexitDisaster,Partygate',\n",
       " 'Dogexpress,Dogphotography,Doglovers,Dogoftheday,Dogowners,Dogtips,Seniordog,Celebratingdoglove,Cutedog,Dogsarelife,Dogsforlife,Covid_19',\n",
       " 'SouthAfrica,COVID19',\n",
       " 'pheo,para',\n",
       " 'HeyMP',\n",
       " 'Genocide,Gentrification,Covid,School2PrisonPipeline,CRT,IUIC,Israelites,WhiteJesus,Apologist,Easter',\n",
       " 'pandemic',\n",
       " '123INFO',\n",
       " 'mabemi22',\n",
       " 'JohnsonOut',\n",
       " 'inflation,US,gas,USA,Biden,Putin,Covid',\n",
       " 'COVID19,Woke',\n",
       " 'covid',\n",
       " 'NHS',\n",
       " 'healthcare,healthcareHR,physician,physicianjobs,medtwitter',\n",
       " 'Muskoka',\n",
       " 'Karnataka,Covid19',\n",
       " 'Covid_19',\n",
       " 'LongCovid',\n",
       " 'CCPHidingDeaths,DraconianLockdowns',\n",
       " 'yourchoicenews,latestnews,news,currentnews,newspaper,newsupdate,dailynews,worldnews,newspapers,newsfeed,newsoftheday',\n",
       " 'FoxNews']"
      ]
     },
     "execution_count": 365,
     "metadata": {},
     "output_type": "execute_result"
    }
   ],
   "source": [
    "[x for x in hashtag_3 if x]"
   ]
  },
  {
   "cell_type": "code",
   "execution_count": 366,
   "metadata": {},
   "outputs": [
    {
     "data": {
      "text/plain": [
       "['BIDEN',\n",
       " 'Covid,Covid,BrainDamage,OrganDamage',\n",
       " 'Simp',\n",
       " 'BidenIsADisgrace',\n",
       " 'HermanCainAward',\n",
       " 'うひーメモ,ニュース',\n",
       " 'Delhi,Covid,coronavirus,CoronavirusUpdates',\n",
       " 'warpBeam_io',\n",
       " 'COVID19',\n",
       " 'Vaxart,VaccineEquity',\n",
       " 'Ottawa,CHEO',\n",
       " 'TradeTalks',\n",
       " 'publichealth,airquality',\n",
       " 'Boosters',\n",
       " 'SankushMedia,Netflix,NetflixIndia',\n",
       " 'FullCircle',\n",
       " 'telemedicine',\n",
       " 'covid_19,KZNFloods2022',\n",
       " 'MLB,TorontoBlueJays,NewYorkYankees',\n",
       " 'Simpleton',\n",
       " 'UKNews',\n",
       " 'Cunts',\n",
       " 'FinanceMinisterNirmalaSitharaman,G20EmergingMarketEconomies,UnionFinanceMinister',\n",
       " 'aworldgonecrazy',\n",
       " 'coronavirus,Delhi',\n",
       " 'donateblood,FreeCOVIDtests,GetVaxxed,GetBoostedNow,WearAMask,N95,SocialDistancing',\n",
       " 'Inflation,Economics',\n",
       " '123INFO',\n",
       " 'COVID,vaccines',\n",
       " 'hopsital,COVID,CDC,capitalism,vaccines,UBI',\n",
       " 'Ontario',\n",
       " 'COVID',\n",
       " 'jimjordanisamess',\n",
       " 'BaltimoreYoungFamiliesSuccessFund',\n",
       " 'pppfraud',\n",
       " 'DelhiCapitals,IPL2022,YehHaiNayiDilli',\n",
       " 'Covid_19,IMPEACHBIDENNOW',\n",
       " 'TrudeauMustGo',\n",
       " 'PESPYs2022',\n",
       " 'UnitedNations',\n",
       " 'COVID',\n",
       " 'Inflation,Economics',\n",
       " 'Bidenflation,BidenCrimeFamilly,BidenBorderCrisis,OkayBoomer,HunterBidensLaptop,BidenGasHike,bidenpricehike,inflation,AfghanistanDebacle,afghanistancrisis',\n",
       " 'CNICSInvestigator,CNICS',\n",
       " 'Orthodox,Easter,Greece',\n",
       " 'Warhammer,WarhammerCommunity,mordheim,hobbying,painting,wargaming',\n",
       " 'covid',\n",
       " 'ldnont',\n",
       " 'Democrats',\n",
       " 'KGF2,RRR,Baahubali2,KGFChapter2',\n",
       " 'yeg',\n",
       " 'TakeUsBackToChina',\n",
       " 'BorisJohnsonResign',\n",
       " 'GoodRead,Industry4,Manufacturing,XR,VirtualReality',\n",
       " 'nbpoli,DominicCardy,NBTA',\n",
       " 'covid',\n",
       " 'Covid_19,research,medicalethics',\n",
       " 'FanSided,MLB',\n",
       " 'Greece,COVID19,coronavirus,rules,masks,coronaviruspandemic,covid19gr,covid19greece,EUCovidCertificate,EUCovidDigitalCertificate',\n",
       " 'FLURONA',\n",
       " 'UsaUsaUsa',\n",
       " 'GOP,GQP,Democrats,DNC,JoeBiden,corporate,COVID,progress,change,gerrymandering,GOP',\n",
       " 'Industrialmetalsprices,metals,copper',\n",
       " 'JacobReesMogg,Covid,Tory',\n",
       " 'CLL',\n",
       " 'CCPChina,COVID,China,CCP,news',\n",
       " 'FactsMatter',\n",
       " 'ClimateActionNow,ClimateEmergency,GlobalWarming,plasticpollution',\n",
       " 'Ottawa,ottnews,news',\n",
       " 'WaLeg',\n",
       " '5Things',\n",
       " 'UK,COVID,Deaths,Daily,UKHSA,BA2,Wave5,Revised,April20',\n",
       " 'covid19,hongkong,plasticwaste,plasticpollution,plastic',\n",
       " 'covid',\n",
       " 'unvaccinated',\n",
       " 'TFG,GOPLiesAboutEverything,FalseMedia',\n",
       " 'RhodeIsland,COVID,vaccination',\n",
       " 'AssociatedPress,ChurchinEurope,COVID19,Easter,Greece',\n",
       " 'Covid',\n",
       " 'pilatus,aircraft,aviation,bizav,generalaviation',\n",
       " 'CCPHidingDeaths,DraconianLockdowns',\n",
       " 'AskVeritas,HealthAndSafety',\n",
       " 'SleepChat,sleep',\n",
       " 'giveup',\n",
       " 'CCPHidingDeaths,DraconianLockdowns',\n",
       " 'COVID19',\n",
       " 'NIHCMAwardsJournalism',\n",
       " 'Coronavirus',\n",
       " 'PBKSvDC']"
      ]
     },
     "execution_count": 366,
     "metadata": {},
     "output_type": "execute_result"
    }
   ],
   "source": [
    "[x for x in hashtag_4 if x]"
   ]
  },
  {
   "cell_type": "code",
   "execution_count": null,
   "metadata": {},
   "outputs": [],
   "source": []
  }
 ],
 "metadata": {
  "kernelspec": {
   "display_name": "Python 3",
   "language": "python",
   "name": "python3"
  },
  "language_info": {
   "codemirror_mode": {
    "name": "ipython",
    "version": 3
   },
   "file_extension": ".py",
   "mimetype": "text/x-python",
   "name": "python",
   "nbconvert_exporter": "python",
   "pygments_lexer": "ipython3",
   "version": "3.8.5"
  }
 },
 "nbformat": 4,
 "nbformat_minor": 2
}
